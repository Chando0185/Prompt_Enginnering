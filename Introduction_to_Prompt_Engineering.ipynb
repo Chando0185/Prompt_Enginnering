{
  "nbformat": 4,
  "nbformat_minor": 0,
  "metadata": {
    "colab": {
      "provenance": []
    },
    "kernelspec": {
      "name": "python3",
      "display_name": "Python 3"
    },
    "language_info": {
      "name": "python"
    }
  },
  "cells": [
    {
      "cell_type": "markdown",
      "source": [
        "# Introduction to Prompt Engineering Tutorial With Langchain\n",
        "\n",
        "## Overview\n",
        "\n",
        "This tutorial provides a comprehensive introduction to the fundamental concepts of prompt engineering in the context of AI and language models. It is designed to give learners a solid foundation in understanding how to effectively communicate with and leverage large language models through carefully crafted prompts."
      ],
      "metadata": {
        "id": "EZbJlkN1LA8Z"
      }
    },
    {
      "cell_type": "markdown",
      "source": [
        "## Key Components\n",
        "\n",
        "The tutorial covers several key components of prompt engineering:\n",
        "\n",
        "1. **Basic Concepts**: An introduction to what prompt engineering is and why it's important.\n",
        "2. **Prompt Structures**: Exploration of different ways to structure prompts for various outcomes.\n",
        "3. **Importance of Prompt Engineering**: Discussion on how prompt engineering impacts AI model performance.\n",
        "4. **Role in AI and Language Models**: Examination of how prompt engineering fits into the broader context of AI applications.\n",
        "5. **Practical Examples**: Hands-on demonstrations of prompt engineering techniques.\n"
      ],
      "metadata": {
        "id": "waVFD6f5LGZk"
      }
    },
    {
      "cell_type": "markdown",
      "source": [
        "##1. Setup & Basic Concept"
      ],
      "metadata": {
        "id": "J0S0HCtYY1rP"
      }
    },
    {
      "cell_type": "code",
      "source": [
        "!pip install langchain langchain_core langchain_groq"
      ],
      "metadata": {
        "id": "9arBfxwfWS_H"
      },
      "execution_count": null,
      "outputs": []
    },
    {
      "cell_type": "code",
      "source": [
        "from langchain_groq import ChatGroq\n",
        "from langchain.prompts import PromptTemplate\n",
        "\n",
        "llm = ChatGroq(\n",
        "    temperature=0,\n",
        "    groq_api_key = \"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\",\n",
        "    model_name = \"llama-3.3-70b-versatile\"\n",
        ")"
      ],
      "metadata": {
        "id": "VGkaAI2zYIBG"
      },
      "execution_count": null,
      "outputs": []
    },
    {
      "cell_type": "code",
      "source": [
        "basic_prompt = \"Explain the concept of prompt eng. in one sentence.\"\n",
        "print(llm.invoke(basic_prompt).content)"
      ],
      "metadata": {
        "colab": {
          "base_uri": "https://localhost:8080/"
        },
        "id": "yb88mFfFZI9q",
        "outputId": "f8183dd9-55c3-4b83-c2aa-8e30b635ac74"
      },
      "execution_count": null,
      "outputs": [
        {
          "output_type": "stream",
          "name": "stdout",
          "text": [
            "Prompt engineering refers to the process of designing, optimizing, and refining text prompts or inputs to elicit specific, accurate, and relevant responses from artificial intelligence (AI) models, such as language models or chatbots.\n"
          ]
        }
      ]
    },
    {
      "cell_type": "markdown",
      "source": [
        "##2. Prompt Structures"
      ],
      "metadata": {
        "id": "E3HMZ72aZwRx"
      }
    },
    {
      "cell_type": "code",
      "source": [
        "structured_prompt = PromptTemplate(\n",
        "    input_variables=[\"topic\"],\n",
        "    template = \"Explain the concept of {topic} in one sentence.\"\n",
        ")\n",
        "chain = structured_prompt | llm\n",
        "input_variables = {\"topic\": \"prompt enginnering\"}\n",
        "output = chain.invoke(input_variables).content\n",
        "print(output)"
      ],
      "metadata": {
        "colab": {
          "base_uri": "https://localhost:8080/"
        },
        "id": "fSauLkeyZlIw",
        "outputId": "194e0168-c943-4167-e09f-d1ea4b419db5"
      },
      "execution_count": null,
      "outputs": [
        {
          "output_type": "stream",
          "name": "stdout",
          "text": [
            "Prompt engineering refers to the process of designing, optimizing, and refining the input prompts or queries given to artificial intelligence (AI) models, such as language models or chatbots, to elicit specific, accurate, and relevant responses.\n"
          ]
        }
      ]
    },
    {
      "cell_type": "markdown",
      "source": [
        "##3. Importance of Prompt Engineering"
      ],
      "metadata": {
        "id": "JFzucsUAbnGS"
      }
    },
    {
      "cell_type": "code",
      "source": [
        "prompts = [\n",
        "    \"List 4 application of AI in healthcare\",\n",
        "    \"Explain how AI is revolutionizing healthcare, with 4 specific example\",\n",
        "    \"You are a doctor. Describe 3 ways AI has improved your daily work in the hospital\"\n",
        "]\n",
        "\n",
        "for i, prompt in enumerate(prompts, 1):\n",
        "  print(f\"\\nPrompt {i}: \")\n",
        "  print(prompt)\n",
        "  print(\"\\nResponse: \")\n",
        "  print(llm.invoke(prompt).content)\n",
        "  print(\"-\"*100)\n"
      ],
      "metadata": {
        "colab": {
          "base_uri": "https://localhost:8080/"
        },
        "id": "X5f8MRP7agc5",
        "outputId": "a84804c2-f9f2-4155-a66c-51959f721d65"
      },
      "execution_count": null,
      "outputs": [
        {
          "output_type": "stream",
          "name": "stdout",
          "text": [
            "\n",
            "Prompt 1: \n",
            "List 4 application of AI in healthcare\n",
            "\n",
            "Response: \n",
            "Here are 4 applications of AI in healthcare:\n",
            "\n",
            "1. **Disease Diagnosis**: AI algorithms can analyze medical images, patient data, and lab results to help doctors diagnose diseases more accurately and quickly. For example, AI-powered computer vision can detect abnormalities in X-rays, CT scans, and MRIs, while machine learning algorithms can analyze electronic health records (EHRs) to identify patterns and predict patient outcomes.\n",
            "\n",
            "2. **Personalized Medicine**: AI can help tailor treatment plans to individual patients based on their unique genetic profiles, medical histories, and lifestyle factors. This approach, known as precision medicine, can lead to more effective treatments and better patient outcomes. AI can also help identify potential drug interactions and side effects, allowing doctors to adjust treatment plans accordingly.\n",
            "\n",
            "3. **Predictive Analytics**: AI-powered predictive analytics can help healthcare professionals forecast patient outcomes, identify high-risk patients, and prevent hospital readmissions. By analyzing large datasets, including EHRs, claims data, and sensor data from wearables and medical devices, AI algorithms can identify patterns and predict patient behavior, such as the likelihood of hospitalization or disease progression.\n",
            "\n",
            "4. **Virtual Nursing Assistants**: AI-powered virtual nursing assistants can help patients manage chronic conditions, adhere to medication regimens, and monitor their vital signs remotely. These virtual assistants can also provide patients with personalized health advice, reminders, and support, freeing up human nurses to focus on more complex and high-touch care. Additionally, AI-powered chatbots can help patients schedule appointments, answer medical questions, and access medical records, improving patient engagement and satisfaction.\n",
            "----------------------------------------------------------------------------------------------------\n",
            "\n",
            "Prompt 2: \n",
            "Explain how AI is revolutionizing healthcare, with 4 specific example\n",
            "\n",
            "Response: \n",
            "Artificial Intelligence (AI) is revolutionizing healthcare by improving patient outcomes, streamlining clinical workflows, and enhancing the overall quality of care. Here are 4 specific examples of how AI is transforming the healthcare industry:\n",
            "\n",
            "1. **Medical Imaging Analysis**: AI-powered algorithms can analyze medical images such as X-rays, CT scans, and MRIs to help doctors diagnose diseases more accurately and quickly. For instance, Google's AI-powered LYNA (Lymph Node Assistant) can detect breast cancer from lymph node biopsies with a high degree of accuracy, reducing the need for human interpretation and minimizing the risk of false negatives. This technology has the potential to improve cancer diagnosis and treatment outcomes.\n",
            "\n",
            "2. **Personalized Medicine and Predictive Analytics**: AI can analyze large amounts of patient data, including genetic information, medical history, and lifestyle factors, to predict patient outcomes and tailor treatment plans to individual needs. For example, IBM's Watson for Oncology uses AI to analyze cancer patient data and provide personalized treatment recommendations based on the latest medical research and clinical trials. This approach can help doctors develop more effective treatment plans and improve patient outcomes.\n",
            "\n",
            "3. **Chatbots and Virtual Nursing Assistants**: AI-powered chatbots and virtual nursing assistants can help patients with routine tasks such as scheduling appointments, answering medical questions, and providing medication reminders. For instance, Mayo Clinic's AskMayoExpert chatbot uses AI to provide patients with personalized health advice and connect them with healthcare professionals. This technology can help reduce the workload of human healthcare professionals, improve patient engagement, and enhance the overall patient experience.\n",
            "\n",
            "4. **Predictive Analytics for Patient Risk Stratification**: AI can analyze large amounts of patient data to identify high-risk patients and predict the likelihood of hospital readmissions, disease progression, or other adverse outcomes. For example, the University of California, San Francisco (UCSF) has developed an AI-powered predictive analytics platform that uses machine learning algorithms to identify patients at high risk of hospital readmission. This technology can help healthcare providers target interventions and resources to high-risk patients, reducing hospital readmissions and improving patient outcomes.\n",
            "\n",
            "These examples illustrate the significant potential of AI to transform the healthcare industry, from improving diagnosis and treatment outcomes to enhancing patient engagement and streamlining clinical workflows. As AI technology continues to evolve, we can expect to see even more innovative applications of AI in healthcare.\n",
            "----------------------------------------------------------------------------------------------------\n",
            "\n",
            "Prompt 3: \n",
            "You are a doctor. Describe 3 ways AI has improved your daily work in the hospital\n",
            "\n",
            "Response: \n",
            "As a doctor, I've witnessed firsthand the significant impact of Artificial Intelligence (AI) on my daily work in the hospital. Here are three ways AI has improved my workflow:\n",
            "\n",
            "1. **Enhanced Diagnostic Accuracy with AI-Assisted Imaging**: AI-powered algorithms have revolutionized the way we interpret medical images, such as X-rays, CT scans, and MRIs. These algorithms can quickly analyze images, detect abnormalities, and provide preliminary diagnoses, which I can then review and confirm. For instance, AI-assisted imaging has improved our ability to detect breast cancer, lung nodules, and cardiovascular disease. This not only saves time but also reduces the likelihood of human error, allowing me to focus on more complex cases and provide more accurate diagnoses.\n",
            "\n",
            "2. **Streamlined Clinical Decision Support with AI-Driven Chatbots**: AI-powered chatbots have been integrated into our hospital's electronic health record (EHR) system, providing me with real-time clinical decision support. These chatbots can quickly process large amounts of patient data, identify potential health risks, and suggest evidence-based treatment options. For example, if I'm treating a patient with a complex condition like diabetes, the chatbot can analyze their medical history, current medications, and lab results to recommend personalized treatment plans. This helps me stay up-to-date with the latest medical research and guidelines, ensuring that my patients receive the best possible care.\n",
            "\n",
            "3. **Optimized Patient Flow and Resource Allocation with AI-Driven Predictive Analytics**: AI-powered predictive analytics has enabled our hospital to optimize patient flow and resource allocation. By analyzing historical data, real-time patient admissions, and discharge patterns, AI algorithms can predict patient volume, length of stay, and resource utilization. This information helps me and our hospital administrators to make informed decisions about staffing, bed allocation, and resource allocation. For instance, if the AI system predicts a surge in emergency department admissions, we can proactively adjust our staffing and bed assignments to ensure that we're prepared to provide timely and effective care. This has significantly reduced wait times, improved patient satisfaction, and enhanced overall hospital efficiency.\n",
            "\n",
            "These AI-driven innovations have transformed my daily work in the hospital, enabling me to provide more accurate, efficient, and personalized care to my patients. As AI technology continues to evolve, I'm excited to explore new ways to leverage its potential and improve patient outcomes.\n",
            "----------------------------------------------------------------------------------------------------\n"
          ]
        }
      ]
    },
    {
      "cell_type": "markdown",
      "source": [
        "##4. Role in AI and Language Models"
      ],
      "metadata": {
        "id": "OTzpG1D2dCuM"
      }
    },
    {
      "cell_type": "code",
      "source": [
        "fact_check_prompt = PromptTemplate(\n",
        "    input_variables=[\"statement\"],\n",
        "    template=\"\"\"Evaulate the following statement for factual accuarcy. If it's incorrect, provide the correct information:\n",
        "    Statement: {statement}\n",
        "    Evalution:\"\"\"\n",
        ")\n",
        "chain = fact_check_prompt | llm\n",
        "print(chain.invoke(\"The captial of india is london.\").content)"
      ],
      "metadata": {
        "colab": {
          "base_uri": "https://localhost:8080/"
        },
        "id": "CYR5d3u1cnOR",
        "outputId": "06ea46dc-59e2-44df-8048-82b75a9a36ff"
      },
      "execution_count": null,
      "outputs": [
        {
          "output_type": "stream",
          "name": "stdout",
          "text": [
            "Evaluation: The statement is incorrect.\n",
            "\n",
            "The correct information is: The capital of India is New Delhi. London is the capital of the United Kingdom, not India. New Delhi has been the capital of India since 1911, when the British East India Company decided to shift the capital from Calcutta (now Kolkata) to New Delhi. India gained independence from British rule in 1947, and New Delhi has remained the capital of the country since then.\n"
          ]
        }
      ]
    },
    {
      "cell_type": "markdown",
      "source": [
        "##5. Complex problem-solving"
      ],
      "metadata": {
        "id": "8Q7PfFUDeHeQ"
      }
    },
    {
      "cell_type": "code",
      "source": [
        "problem_solving_prompt = PromptTemplate(\n",
        "    input_variables=[\"problem\"],\n",
        "    template = \"\"\"Solve the following problem step by step:\n",
        "    Problem: {problem}\n",
        "    Solution:\n",
        "    1)\"\"\"\n",
        ")\n",
        "chain = problem_solving_prompt | llm\n",
        "print(chain.invoke(\"A bank offers an annual interest rate of 6%, compounded yearly. Over the past 5 years, the annual deposit amounts were as follows: $1000, $1500, $2000, $2500, and $3000. Calculate the total amount in the account at the end of 5 years, considering the interest compounding annually.\").content)"
      ],
      "metadata": {
        "colab": {
          "base_uri": "https://localhost:8080/"
        },
        "id": "Bl76bYIxd875",
        "outputId": "1e690adb-25a7-442b-fded-3e6de023676c"
      },
      "execution_count": null,
      "outputs": [
        {
          "output_type": "stream",
          "name": "stdout",
          "text": [
            "To solve this problem, we'll calculate the total amount in the account at the end of 5 years, considering the interest compounding annually. Here are the steps:\n",
            "\n",
            "1. **Calculate the interest rate as a decimal**: The annual interest rate is 6%, which as a decimal is 0.06.\n",
            "\n",
            "2. **Calculate the amount after the first year**:\n",
            "   - Initial deposit: $1000\n",
            "   - Interest earned: $1000 * 0.06 = $60\n",
            "   - Total after the first year: $1000 + $60 = $1060\n",
            "\n",
            "3. **Calculate the amount after the second year**:\n",
            "   - Previous balance: $1060\n",
            "   - New deposit: $1500\n",
            "   - Total before interest: $1060 + $1500 = $2560\n",
            "   - Interest earned: $2560 * 0.06 = $153.60\n",
            "   - Total after the second year: $2560 + $153.60 = $2713.60\n",
            "\n",
            "4. **Calculate the amount after the third year**:\n",
            "   - Previous balance: $2713.60\n",
            "   - New deposit: $2000\n",
            "   - Total before interest: $2713.60 + $2000 = $4713.60\n",
            "   - Interest earned: $4713.60 * 0.06 = $282.816\n",
            "   - Total after the third year: $4713.60 + $282.816 = $4996.416\n",
            "\n",
            "5. **Calculate the amount after the fourth year**:\n",
            "   - Previous balance: $4996.416\n",
            "   - New deposit: $2500\n",
            "   - Total before interest: $4996.416 + $2500 = $7496.416\n",
            "   - Interest earned: $7496.416 * 0.06 = $449.78596\n",
            "   - Total after the fourth year: $7496.416 + $449.78596 = $7946.202\n",
            "\n",
            "6. **Calculate the amount after the fifth year**:\n",
            "   - Previous balance: $7946.202\n",
            "   - New deposit: $3000\n",
            "   - Total before interest: $7946.202 + $3000 = $10946.202\n",
            "   - Interest earned: $10946.202 * 0.06 = $656.77212\n",
            "   - Total after the fifth year: $10946.202 + $656.77212 = $11603.0 (rounded to the nearest dollar)\n",
            "\n",
            "Therefore, the total amount in the account at the end of 5 years is approximately $11603.\n"
          ]
        }
      ]
    },
    {
      "cell_type": "code",
      "source": [],
      "metadata": {
        "id": "MricejPbemta"
      },
      "execution_count": null,
      "outputs": []
    }
  ]
}