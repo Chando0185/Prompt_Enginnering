{
  "nbformat": 4,
  "nbformat_minor": 0,
  "metadata": {
    "colab": {
      "provenance": []
    },
    "kernelspec": {
      "name": "python3",
      "display_name": "Python 3"
    },
    "language_info": {
      "name": "python"
    }
  },
  "cells": [
    {
      "cell_type": "markdown",
      "source": [
        "# Role Prompting Tutorial\n",
        "\n",
        "This tutorial explores the concept of role prompting in AI language models, focusing on how to assign specific roles to AI models and craft effective role descriptions."
      ],
      "metadata": {
        "id": "jPLkqAR8cKdM"
      }
    },
    {
      "cell_type": "markdown",
      "source": [
        "## Key Components\n",
        "\n",
        "1. Basic Role Assignment\n",
        "2. Crafting Effective Role Descriptions\n",
        "3. Comparing Responses with Different Roles\n",
        "4. Refining Role Descriptions"
      ],
      "metadata": {
        "id": "tLZ0U7qJcPT7"
      }
    },
    {
      "cell_type": "code",
      "source": [
        "!pip install langchain langchain_core langchain_groq"
      ],
      "metadata": {
        "id": "EGyAf7tTcOWT"
      },
      "execution_count": null,
      "outputs": []
    },
    {
      "cell_type": "code",
      "source": [
        "from langchain_groq import ChatGroq\n",
        "from langchain.prompts import PromptTemplate\n",
        "\n",
        "llm = ChatGroq(\n",
        "    temperature=0,\n",
        "    groq_api_key = \"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\",\n",
        "    model_name = \"llama-3.3-70b-versatile\"\n",
        ")"
      ],
      "metadata": {
        "id": "y-FTlByIb8oX"
      },
      "execution_count": null,
      "outputs": []
    },
    {
      "cell_type": "markdown",
      "source": [
        "##1. Basic Role Assignment"
      ],
      "metadata": {
        "id": "-oJy7NK_-ozc"
      }
    },
    {
      "cell_type": "code",
      "source": [
        "tech_writer_prompt = PromptTemplate(\n",
        "    input_variables=[\"topic\"],\n",
        "    template = \"\"\"You are a technical writer specializing in creating clear and concise documentation for software product.\n",
        "    Your task is to write a brief explanation of {topic} for a user  manual.\n",
        "    Please provide 2-3 sentence explanation that is easy for non-technical users to understand\"\"\"\n",
        ")\n",
        "chain = tech_writer_prompt | llm\n",
        "response = chain.invoke({\"topic\": \"Blockchain\"})\n",
        "print(response.content)"
      ],
      "metadata": {
        "id": "R2ZGtrrGeRqB",
        "colab": {
          "base_uri": "https://localhost:8080/"
        },
        "outputId": "ac0101c0-ad7e-49cc-bc20-1cced630b10b"
      },
      "execution_count": null,
      "outputs": [
        {
          "output_type": "stream",
          "name": "stdout",
          "text": [
            "Blockchain is a digital ledger that records transactions across a network of computers, allowing for secure, transparent, and tamper-proof data storage. It's like a digital bookkeeping system where multiple copies of the same information are maintained by many different parties, making it difficult for anyone to alter or manipulate the data. This technology enables trustworthy and reliable exchanges of information, such as financial transactions or data sharing, without the need for a central authority.\n"
          ]
        }
      ]
    },
    {
      "cell_type": "markdown",
      "source": [
        "##2. Crafting Effective Role Descriptions"
      ],
      "metadata": {
        "id": "C2ov9fXpARKF"
      }
    },
    {
      "cell_type": "code",
      "source": [
        "financial_advisor_prompt = PromptTemplate(\n",
        "    input_variables=[\"client_situation\"],\n",
        "    template=\"\"\"You are a seasoned financial advisor with over 20 years of experience in personal finance, investment strategies, and retirement planning.\n",
        "    You have a track record of helping clients from diverse backgrounds achieve their financial goals.\n",
        "    Your approach is characterized by:\n",
        "    1. Thorough analysis of each client's unique financial situation\n",
        "    2. Clear and jargon-free communication of complex financial concepts\n",
        "    3. Ethical considerations in all recommendations\n",
        "    4. A focus on long-term financial health and stability\n",
        "\n",
        "    Given the following client situation, provide a brief (3-4 sentences) financial advice:\n",
        "    {client_situation}\n",
        "\n",
        "    Your response should reflect your expertise and adhere to your characteristic approach.\"\"\"\n",
        ")\n",
        "\n",
        "chain = financial_advisor_prompt | llm\n",
        "response = chain.invoke({\"client_situation\": \"A 35-year-old professional earning $80,000 annually, with $30,000 in savings, no debt, and no retirement plan.\"})\n",
        "print(response.content)"
      ],
      "metadata": {
        "colab": {
          "base_uri": "https://localhost:8080/"
        },
        "id": "AyjX2FCz_3Ej",
        "outputId": "478a315f-8ac2-4a5e-d738-2c906495b847"
      },
      "execution_count": null,
      "outputs": [
        {
          "output_type": "stream",
          "name": "stdout",
          "text": [
            "Given this client's stable income and debt-free status, I would recommend allocating a portion of their $30,000 savings towards establishing a retirement plan, such as a Roth IRA or a employer-sponsored 401(k), to take advantage of compound interest and tax benefits. Additionally, I would suggest setting aside 3-6 months' worth of expenses in a readily accessible savings account to maintain an emergency fund. To further optimize their financial situation, we can explore other investment opportunities, such as a tax-efficient brokerage account, to diversify their portfolio and work towards long-term financial goals. By prioritizing retirement savings and building a safety net, this client can lay a solid foundation for achieving long-term financial stability and security.\n"
          ]
        }
      ]
    },
    {
      "cell_type": "markdown",
      "source": [
        "##3. Comparing Responses with Different Roles"
      ],
      "metadata": {
        "id": "_41AjrAEBPNI"
      }
    },
    {
      "cell_type": "code",
      "source": [
        "roles = [\n",
        "    (\"Scientist\", \"You are a research scientist specializing in climate change. Explain the following concept in scientific terms:\"),\n",
        "    (\"Teacher\", \"You are a middle school science teacher. Explain the following concept in simple terms suitable for 12-year-old students:\"),\n",
        "    (\"Journalist\", \"You are a journalist writing for a popular science magazine. Explain the following concept in an engaging and informative manner for a general adult audience:\")\n",
        "]\n",
        "\n",
        "topic = \"The greenhouse effect\"\n",
        "\n",
        "for role, description in roles:\n",
        "    role_prompt = PromptTemplate(\n",
        "        input_variables=[\"topic\"],\n",
        "        template=f\"{description} {{topic}}\"\n",
        "    )\n",
        "    chain = role_prompt | llm\n",
        "    response = chain.invoke({\"topic\": topic})\n",
        "    print(f\"\\n{role}'s explanation:\\n\")\n",
        "    print(response.content)\n",
        "    print(\"-\" * 50)"
      ],
      "metadata": {
        "colab": {
          "base_uri": "https://localhost:8080/"
        },
        "id": "_ZHN6bjVA047",
        "outputId": "924aa3b2-3dfe-4b11-ba83-dd831f773cd1"
      },
      "execution_count": null,
      "outputs": [
        {
          "output_type": "stream",
          "name": "stdout",
          "text": [
            "\n",
            "Scientist's explanation:\n",
            "\n",
            "The greenhouse effect is a fundamental concept in climate science, referring to the process by which certain atmospheric gases, known as greenhouse gases (GHGs), trap and retain heat from the sun, thereby warming the Earth's surface and atmosphere.\n",
            "\n",
            "From a scientific perspective, the greenhouse effect can be described as follows:\n",
            "\n",
            "1. **Solar Radiation**: The Earth's surface absorbs solar radiation, primarily in the form of visible light and ultraviolet (UV) radiation, from the sun. This energy is then converted into heat, warming the surface.\n",
            "2. **Infrared Radiation**: As the Earth's surface warms, it emits infrared (IR) radiation, which is a type of electromagnetic radiation with longer wavelengths than visible light. This IR radiation is directed upwards, towards the atmosphere.\n",
            "3. **Greenhouse Gases**: The atmosphere contains various GHGs, including carbon dioxide (CO2), methane (CH4), water vapor (H2O), nitrous oxide (N2O), and ozone (O3). These gases have molecular structures that allow them to absorb and re-emit IR radiation.\n",
            "4. **Absorption and Re-Emission**: When IR radiation from the Earth's surface encounters GHGs in the atmosphere, it is absorbed by the gas molecules. This energy is then transferred to the surrounding air molecules, warming the atmosphere. The GHGs, now energized, re-emit IR radiation in all directions, including back towards the Earth's surface.\n",
            "5. **Trapping of Heat**: The re-emitted IR radiation is trapped by the GHGs, creating a \"blanket\" effect that prevents the heat from escaping into space. This trapped heat is then distributed throughout the atmosphere, warming the planet.\n",
            "6. **Feedback Loops**: The greenhouse effect is reinforced by various feedback loops, such as the water vapor feedback, where increased temperatures lead to more evaporation, which in turn amplifies the greenhouse effect.\n",
            "\n",
            "The key GHGs responsible for the greenhouse effect are:\n",
            "\n",
            "* Carbon dioxide (CO2): Released through fossil fuel combustion, deforestation, and land-use changes.\n",
            "* Methane (CH4): Released through agricultural activities, natural gas production and transport, and landfills.\n",
            "* Water vapor (H2O): The most abundant GHG, with its concentration increasing with temperature.\n",
            "* Nitrous oxide (N2O): Released through agricultural activities, industrial processes, and the burning of fossil fuels.\n",
            "* Ozone (O3): Created in the stratosphere through the interaction of UV radiation and oxygen molecules.\n",
            "\n",
            "The greenhouse effect is a natural process that has been occurring for millions of years, and it is essential for maintaining the Earth's temperature at a level that can support life. However, human activities, particularly the burning of fossil fuels and deforestation, have significantly increased the concentration of GHGs in the atmosphere, amplifying the greenhouse effect and leading to global warming and climate change.\n",
            "\n",
            "In scientific terms, the greenhouse effect can be quantified using the concept of radiative forcing, which is the change in the net radiation balance at the top of the atmosphere. The radiative forcing of a particular GHG is calculated as the difference between the incoming and outgoing radiation, and it is typically expressed in units of watts per square meter (W/m²). The total radiative forcing of all GHGs is then used to estimate the resulting temperature change, using climate sensitivity parameters.\n",
            "--------------------------------------------------\n",
            "\n",
            "Teacher's explanation:\n",
            "\n",
            "Hey class, today we're going to talk about something really cool called the greenhouse effect. You might have heard of it before, but let's break it down in simple terms.\n",
            "\n",
            "So, you know how we need sunlight to warm up the Earth, right? Well, when the sun's rays reach our planet, some of that energy gets absorbed by the Earth's surface, like the ground, oceans, and trees. This energy warms up the Earth, making it cozy and comfortable for us to live.\n",
            "\n",
            "Now, here's the important part: when the Earth's surface gets warm, it releases some of that energy back into the air as heat. This heat rises up into the atmosphere, kind of like when you open the door of a hot car and the warm air comes out.\n",
            "\n",
            "The greenhouse effect happens when certain gases in the atmosphere, like carbon dioxide and water vapor, trap some of that heat. These gases act like a blanket, keeping the heat from escaping back into space. This is similar to how a greenhouse works – it's a special building made of glass that lets sunlight in, but keeps the heat from escaping, making it warm and cozy inside.\n",
            "\n",
            "The greenhouse effect is a natural process that helps keep our planet warm enough for us to live. Without it, the Earth would be really cold, and life as we know it wouldn't be possible.\n",
            "\n",
            "However, there's a problem. Human activities, like burning fossil fuels and cutting down trees, are releasing more and more of these greenhouse gases into the atmosphere. This is making the blanket thicker, trapping more heat, and causing the Earth's temperature to rise. This is known as global warming, and it's a big concern for our planet's health.\n",
            "\n",
            "So, to sum it up: the greenhouse effect is like a natural blanket that keeps our planet warm, but human activities are making that blanket too thick, and that's causing problems for our planet. We'll talk more about this in future lessons, but for now, let's just remember that the greenhouse effect is an important process that helps our planet, but we need to be careful not to disrupt it.\n",
            "--------------------------------------------------\n",
            "\n",
            "Journalist's explanation:\n",
            "\n",
            "**The Greenhouse Effect: The Hidden Force Behind Our Planet's Climate**\n",
            "\n",
            "Imagine walking into a warm and cozy greenhouse on a chilly winter morning. The air inside is balmy, filled with the sweet scent of blooming flowers and the gentle hum of happy plants. But have you ever wondered how this magical space stays so warm, even when the outside temperature is freezing? The answer lies in a fascinating phenomenon called the greenhouse effect.\n",
            "\n",
            "In simple terms, the greenhouse effect is a natural process that occurs when certain gases in the Earth's atmosphere trap heat from the sun, keeping our planet warm enough to support life. It's like a cosmic blanket that wraps around our world, regulating the temperature and making it possible for us to thrive.\n",
            "\n",
            "Here's how it works: when the sun's rays enter the Earth's atmosphere, they warm the surface, which in turn releases heat back into the air. This heat is made up of infrared radiation, which is invisible to the human eye. Now, if the Earth's atmosphere were completely transparent to infrared radiation, this heat would simply escape into space, leaving our planet a frozen and inhospitable place.\n",
            "\n",
            "But that's not what happens. Certain gases in the atmosphere, such as carbon dioxide (CO2), methane (CH4), and water vapor (H2O), absorb some of this infrared radiation, trapping the heat and preventing it from escaping. These gases are like a selective filter, allowing visible light to pass through while blocking the infrared radiation. As a result, the heat is retained, warming the atmosphere and the surface of the Earth.\n",
            "\n",
            "The greenhouse effect is a vital component of our planet's climate system. Without it, the average temperature on Earth would be around -18°C (0°F), making it impossible for life as we know it to exist. The greenhouse effect is responsible for maintaining a comfortable temperature range, allowing plants to grow, oceans to stay liquid, and humans to thrive.\n",
            "\n",
            "However, there's a catch. Human activities, such as burning fossil fuels, deforestation, and land-use changes, have significantly increased the concentration of greenhouse gases in the atmosphere. This amplifies the greenhouse effect, leading to an enhancement of the natural warming process. The result is global warming, which is causing rising temperatures, more extreme weather events, and altered ecosystems.\n",
            "\n",
            "The good news is that we can take action to mitigate the enhanced greenhouse effect. By reducing our carbon footprint, investing in renewable energy, and protecting natural carbon sinks like forests, we can help stabilize the climate and ensure a sustainable future for our planet.\n",
            "\n",
            "In conclusion, the greenhouse effect is a remarkable process that makes life on Earth possible. While it's essential for our planet's climate, human activities have disrupted the delicate balance of the greenhouse effect, leading to global warming. By understanding this complex phenomenon and taking collective action, we can work towards a more sustainable and climate-resilient future for generations to come.\n",
            "--------------------------------------------------\n"
          ]
        }
      ]
    },
    {
      "cell_type": "markdown",
      "source": [
        "##4. Refining Role Descriptions"
      ],
      "metadata": {
        "id": "lw4g_aODCTA2"
      }
    },
    {
      "cell_type": "code",
      "source": [
        "storyteller_prompt = PromptTemplate(\n",
        "    input_variables=[\"style\", \"scenario\"],\n",
        "    template=\"\"\"You are a master storyteller known for your ability to adapt to various narrative styles.\n",
        "    Your current task is to write in the style of {style}.\n",
        "    Key characteristics of this style include:\n",
        "    1. {style_char1}\n",
        "    2. {style_char2}\n",
        "    3. {style_char3}\n",
        "\n",
        "    Write a short paragraph (3-4 sentences) in this style about the following scenario:\n",
        "    {scenario}\n",
        "\n",
        "    Ensure your writing clearly reflects the specified style.\"\"\"\n",
        ")\n",
        "\n",
        "styles = [\n",
        "    {\n",
        "        \"name\": \"Gothic horror\",\n",
        "        \"char1\": \"Atmospheric and ominous descriptions\",\n",
        "        \"char2\": \"Themes of decay, death, and the supernatural\",\n",
        "        \"char3\": \"Heightened emotions and sense of dread\"\n",
        "    },\n",
        "    {\n",
        "        \"name\": \"Minimalist realism\",\n",
        "        \"char1\": \"Sparse, concise language\",\n",
        "        \"char2\": \"Focus on everyday, ordinary events\",\n",
        "        \"char3\": \"Subtle implications rather than explicit statements\"\n",
        "    }\n",
        "]\n",
        "\n",
        "scenario = \"A person enters an empty house at twilight\"\n",
        "\n",
        "for style in styles:\n",
        "    chain = storyteller_prompt | llm\n",
        "    response = chain.invoke({\n",
        "        \"style\": style[\"name\"],\n",
        "        \"style_char1\": style[\"char1\"],\n",
        "        \"style_char2\": style[\"char2\"],\n",
        "        \"style_char3\": style[\"char3\"],\n",
        "        \"scenario\": scenario\n",
        "    })\n",
        "    print(f\"\\n{style['name']} version:\\n\")\n",
        "    print(response.content)\n",
        "    print(\"-\" * 50)"
      ],
      "metadata": {
        "colab": {
          "base_uri": "https://localhost:8080/"
        },
        "id": "fz5dRt1PBuWn",
        "outputId": "5791dc14-27aa-4c3c-f892-73e4fe72fcd1"
      },
      "execution_count": null,
      "outputs": [
        {
          "output_type": "stream",
          "name": "stdout",
          "text": [
            "\n",
            "Gothic horror version:\n",
            "\n",
            "As the last wisps of twilight succumbed to the all-consuming darkness, the crumbling mansion loomed before me, its turrets and spires reaching towards the moon like skeletal fingers. The wind died, and an unearthly stillness fell over the deserted estate, as if the very house itself was holding its breath in anticipation of my entrance. I stepped across the threshold, my footsteps echoing through the vacant halls like a death knell, and was immediately enveloped by an aura of decay and forgotten sorrow. The shadows within seemed to writhe and twist around me, like living darkness, as I stood frozen, my heart heavy with the foreboding that I was not alone in this forsaken place.\n",
            "--------------------------------------------------\n",
            "\n",
            "Minimalist realism version:\n",
            "\n",
            "The person stepped into the house, the door creaking shut behind them. Twilight seeped through the windows, casting faint shadows on the walls. The air inside was still, thick with the scent of old furniture. They stood, their eyes adjusting to the dim light, the silence a palpable thing.\n",
            "--------------------------------------------------\n"
          ]
        }
      ]
    },
    {
      "cell_type": "code",
      "source": [],
      "metadata": {
        "id": "ZNgB6PY3DAUs"
      },
      "execution_count": null,
      "outputs": []
    }
  ]
}