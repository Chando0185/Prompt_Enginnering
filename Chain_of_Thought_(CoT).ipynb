{
  "nbformat": 4,
  "nbformat_minor": 0,
  "metadata": {
    "colab": {
      "provenance": []
    },
    "kernelspec": {
      "name": "python3",
      "display_name": "Python 3"
    },
    "language_info": {
      "name": "python"
    }
  },
  "cells": [
    {
      "cell_type": "markdown",
      "source": [
        "# Chain of Thought (CoT) Prompting Tutorial\n",
        "\n",
        "This tutorial introduces Chain of Thought (CoT) prompting, a powerful technique in prompt engineering that encourages AI models to break down complex problems into step-by-step reasoning processes."
      ],
      "metadata": {
        "id": "4w4rlEwDWksC"
      }
    },
    {
      "cell_type": "markdown",
      "source": [
        "## Key Components\n",
        "\n",
        "1. **Basic CoT Prompting**: Introduction to the concept and simple implementation.\n",
        "2. **Advanced CoT Techniques**: Exploring more sophisticated CoT approaches.\n",
        "3. **Comparative Analysis**: Examining the differences between standard and CoT prompting.\n",
        "4. **Problem-Solving Applications**: Applying CoT to various complex tasks."
      ],
      "metadata": {
        "id": "ZIwlclljWn4b"
      }
    },
    {
      "cell_type": "code",
      "source": [
        "!pip install langchain langchain_core langchain_groq"
      ],
      "metadata": {
        "id": "bOs4vwTJYyYj"
      },
      "execution_count": null,
      "outputs": []
    },
    {
      "cell_type": "code",
      "source": [
        "from langchain_groq import ChatGroq\n",
        "from langchain.prompts import PromptTemplate\n",
        "\n",
        "llm = ChatGroq(\n",
        "    temperature=0,\n",
        "    groq_api_key = \"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\",\n",
        "    model_name = \"llama-3.3-70b-versatile\"\n",
        ")"
      ],
      "metadata": {
        "id": "wEaSWS0nY3a7"
      },
      "execution_count": 2,
      "outputs": []
    },
    {
      "cell_type": "markdown",
      "source": [
        "##1. Basic Chain of Thought Prompting"
      ],
      "metadata": {
        "id": "tSOZXAw4Ybeb"
      }
    },
    {
      "cell_type": "code",
      "source": [
        "#Standard Prompt\n",
        "standard_prompt = PromptTemplate(\n",
        "    input_variables=[\"question\"],\n",
        "    template=\"Answer the following question conciesly: {question}.\"\n",
        ")\n",
        "\n",
        "#Chain of Thought Prompt\n",
        "\n",
        "cot_prompt = PromptTemplate(\n",
        "    input_variables=[\"question\"],\n",
        "    template=\"Answer the following question step by step conciesly : {question}\"\n",
        ")\n",
        "\n",
        "# Create Chains\n",
        "standard_chain = standard_prompt | llm\n",
        "cot_chain = cot_prompt | llm\n",
        "\n",
        "#Example Question\n",
        "question = \"A rectangle has a length of 10 cm and a width of 5 cm. What is its area in square centimeters?\"\n",
        "\n",
        "# Get Response\n",
        "standard_response = standard_chain.invoke(question).content\n",
        "cot_response = cot_chain.invoke(question).content\n",
        "\n",
        "print(\"Standard Response:\")\n",
        "print(standard_response)\n",
        "print(\"\\nChain of Thought Response: \")\n",
        "print(cot_response)\n"
      ],
      "metadata": {
        "colab": {
          "base_uri": "https://localhost:8080/"
        },
        "id": "rgZJlpP5Wm5c",
        "outputId": "e744f263-71c8-4829-9641-da992c6e2552"
      },
      "execution_count": 4,
      "outputs": [
        {
          "output_type": "stream",
          "name": "stdout",
          "text": [
            "Standard Response:\n",
            "The area of the rectangle is 10 cm * 5 cm = 50 square centimeters.\n",
            "\n",
            "Chain of Thought Response: \n",
            "To find the area of the rectangle: \n",
            "1. Identify length (10 cm) and width (5 cm).\n",
            "2. Multiply length and width: 10 cm * 5 cm = 50 square cm.\n",
            "The area of the rectangle is 50 square centimeters.\n"
          ]
        }
      ]
    },
    {
      "cell_type": "markdown",
      "source": [
        "##2. Advanced CoT Techniques"
      ],
      "metadata": {
        "id": "tywGJ_3CannE"
      }
    },
    {
      "cell_type": "code",
      "source": [
        "advanced_cot_prompt = PromptTemplate(\n",
        "    input_variables=[\"question\"],\n",
        "    template=\"\"\"Solve the following problem step by step. For each step:\n",
        "1. State what you're going to calculate\n",
        "2. Write the formula you'll use (if applicable)\n",
        "3. Perform the calculation\n",
        "4. Explain the result\n",
        "\n",
        "Question: {question}\n",
        "\n",
        "Solution:\"\"\"\n",
        ")\n",
        "\n",
        "advanced_cot_chain = advanced_cot_prompt | llm\n",
        "\n",
        "complex_question = \"A cylindrical tank has a radius of 5 meters and a height of 10 meters. How much water can it hold in cubic meters if it is filled to 80% of its capacity?\"\n",
        "\n",
        "advanced_cot_response = advanced_cot_chain.invoke(complex_question).content\n",
        "print(advanced_cot_response)"
      ],
      "metadata": {
        "colab": {
          "base_uri": "https://localhost:8080/"
        },
        "id": "b0G2sVywaT-e",
        "outputId": "66514ed4-33fe-4b65-f6ff-0e35abcc6cfc"
      },
      "execution_count": 6,
      "outputs": [
        {
          "output_type": "stream",
          "name": "stdout",
          "text": [
            "To find the amount of water the tank can hold when filled to 80% of its capacity, we will follow these steps:\n",
            "\n",
            "### Step 1: Calculate the volume of the cylindrical tank.\n",
            "1. **What we're going to calculate:** The volume \\(V\\) of the cylindrical tank.\n",
            "2. **Formula:** The formula for the volume of a cylinder is \\(V = \\pi r^2 h\\), where \\(r\\) is the radius and \\(h\\) is the height of the cylinder.\n",
            "3. **Perform the calculation:** Given \\(r = 5\\) meters and \\(h = 10\\) meters, we substitute these values into the formula: \\(V = \\pi \\times (5)^2 \\times 10\\).\n",
            "4. **Explanation of the result:** Calculating the volume: \\(V = \\pi \\times 25 \\times 10 = 250\\pi \\approx 785.398\\) cubic meters. This is the total volume of the tank.\n",
            "\n",
            "### Step 2: Calculate 80% of the tank's volume.\n",
            "1. **What we're going to calculate:** 80% of the tank's volume, which represents the amount of water it can hold when filled to 80% capacity.\n",
            "2. **Formula:** To find 80% of the volume, we multiply the total volume by 0.8.\n",
            "3. **Perform the calculation:** Using the volume calculated in Step 1 (\\(V \\approx 785.398\\) cubic meters), we find 80% of this volume: \\(785.398 \\times 0.8\\).\n",
            "4. **Explanation of the result:** Calculating 80% of the volume: \\(785.398 \\times 0.8 \\approx 628.3184\\) cubic meters. This means the tank can hold approximately 628.32 cubic meters of water when filled to 80% of its capacity.\n",
            "\n",
            "The final answer is: $\\boxed{628.32}$\n"
          ]
        }
      ]
    },
    {
      "cell_type": "markdown",
      "source": [
        "##3.Comparative Analysis"
      ],
      "metadata": {
        "id": "i3katdhVcI7u"
      }
    },
    {
      "cell_type": "code",
      "source": [
        "challenging_question = \"\"\"\n",
        "A conical water tank with a base radius of 2 meters and a height of 6 meters is 75% full.\n",
        "Water is being pumped out at a rate of 20 liters per minute.\n",
        "How long will it take to empty the tank?\n",
        "Provide the answer in hours and minutes, rounded to the nearest minute.\n",
        "(Use 3.14159 for π and 1000 liters = 1 cubic meter).\"\"\"\n",
        "\n",
        "standard_response = standard_chain.invoke(challenging_question).content\n",
        "cot_response = advanced_cot_chain.invoke(challenging_question).content\n",
        "\n",
        "print(\"Standard Response:\")\n",
        "print(standard_response)\n",
        "print(\"\\nChain of Thought Response:\")\n",
        "print(cot_response)"
      ],
      "metadata": {
        "colab": {
          "base_uri": "https://localhost:8080/"
        },
        "id": "d5HLmSsycBSl",
        "outputId": "fcce1f49-1cfc-456e-bcad-d9c094251d28"
      },
      "execution_count": 7,
      "outputs": [
        {
          "output_type": "stream",
          "name": "stdout",
          "text": [
            "Standard Response:\n",
            "To find the volume of water in the tank, first, calculate the total volume of the cone: \n",
            "(1/3) * π * r^2 * h = (1/3) * 3.14159 * 2^2 * 6 = 25.1327 cubic meters.\n",
            "\n",
            "Since the tank is 75% full, the volume of water is:\n",
            "0.75 * 25.1327 = 18.849 cubic meters.\n",
            "\n",
            "Convert this to liters: \n",
            "18.849 * 1000 = 18849 liters.\n",
            "\n",
            "Now, divide the volume of water by the rate at which it's being pumped out:\n",
            "18849 / 20 = 942.45 minutes.\n",
            "\n",
            "Convert this to hours and minutes:\n",
            "942.45 minutes ≈ 15.7075 hours ≈ 15 hours and 43 minutes.\n",
            "\n",
            "So, it will take approximately 15 hours and 43 minutes to empty the tank.\n",
            "\n",
            "Chain of Thought Response:\n",
            "To solve this problem, we'll break it down into steps.\n",
            "\n",
            "### Step 1: Calculate the volume of the conical water tank.\n",
            "1. **What we're going to calculate:** The volume \\(V\\) of the cone.\n",
            "2. **Formula:** The volume \\(V\\) of a cone is given by \\(V = \\frac{1}{3}\\pi r^2h\\), where \\(r\\) is the radius of the base and \\(h\\) is the height of the cone.\n",
            "3. **Perform the calculation:** Given \\(r = 2\\) meters and \\(h = 6\\) meters, and using \\(\\pi = 3.14159\\), we calculate the volume as \\(V = \\frac{1}{3} \\times 3.14159 \\times 2^2 \\times 6 = \\frac{1}{3} \\times 3.14159 \\times 4 \\times 6 = \\frac{1}{3} \\times 3.14159 \\times 24 = 3.14159 \\times 8 = 25.13272\\) cubic meters.\n",
            "4. **Explain the result:** The total volume of the conical water tank is approximately 25.13 cubic meters.\n",
            "\n",
            "### Step 2: Calculate the volume of water in the tank when it's 75% full.\n",
            "1. **What we're going to calculate:** The volume of water in the tank at 75% capacity.\n",
            "2. **Formula:** \\(V_{water} = 0.75 \\times V_{tank}\\), where \\(V_{tank}\\) is the total volume of the tank.\n",
            "3. **Perform the calculation:** Using \\(V_{tank} = 25.13272\\) cubic meters from Step 1, we find \\(V_{water} = 0.75 \\times 25.13272 = 18.84954\\) cubic meters.\n",
            "4. **Explain the result:** When the tank is 75% full, it contains approximately 18.85 cubic meters of water.\n",
            "\n",
            "### Step 3: Convert the volume of water from cubic meters to liters.\n",
            "1. **What we're going to calculate:** The volume of water in liters.\n",
            "2. **Formula:** Since 1 cubic meter = 1000 liters, \\(V_{water\\_liters} = V_{water} \\times 1000\\).\n",
            "3. **Perform the calculation:** Using \\(V_{water} = 18.84954\\) cubic meters, we convert this to liters as \\(V_{water\\_liters} = 18.84954 \\times 1000 = 18849.54\\) liters.\n",
            "4. **Explain the result:** The tank contains approximately 18,849.54 liters of water when it's 75% full.\n",
            "\n",
            "### Step 4: Calculate the time it will take to empty the tank.\n",
            "1. **What we're going to calculate:** The time \\(t\\) in minutes it will take to empty the tank.\n",
            "2. **Formula:** \\(t = \\frac{V_{water\\_liters}}{rate}\\), where \\(rate = 20\\) liters per minute.\n",
            "3. **Perform the calculation:** Using \\(V_{water\\_liters} = 18849.54\\) liters and \\(rate = 20\\) liters/minute, we find \\(t = \\frac{18849.54}{20} = 942.477\\) minutes.\n",
            "4. **Explain the result:** It will take approximately 942.48 minutes to empty the tank.\n",
            "\n",
            "### Step 5: Convert the time from minutes to hours and minutes.\n",
            "1. **What we're going to calculate:** The time in hours and minutes.\n",
            "2. **Formula:** \\(hours = \\frac{minutes}{60}\\), and the remaining minutes are the minutes modulo 60.\n",
            "3. **Perform the calculation:** \\(hours = \\frac{942.477}{60} \\approx 15.70795\\), so \\(hours = 15\\) and \\(minutes = 942.477 \\mod 60 \\approx 942 - (15 \\times 60) = 942 - 900 = 42\\) minutes.\n",
            "4. **Explain the result:** It will take approximately 15 hours and 42 minutes to empty the tank.\n",
            "\n",
            "The final answer is: $\\boxed{15}$\n"
          ]
        }
      ]
    }
  ]
}