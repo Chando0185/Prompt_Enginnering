{
  "nbformat": 4,
  "nbformat_minor": 0,
  "metadata": {
    "colab": {
      "provenance": []
    },
    "kernelspec": {
      "name": "python3",
      "display_name": "Python 3"
    },
    "language_info": {
      "name": "python"
    }
  },
  "cells": [
    {
      "cell_type": "markdown",
      "source": [
        "# Basic Prompt Structures Tutorial\n",
        "\n",
        "This tutorial focuses on two fundamental types of prompt structures:\n",
        "1. Single-turn prompts\n",
        "2. Multi-turn prompts (conversations)"
      ],
      "metadata": {
        "id": "gnNAPvN0q0C9"
      }
    },
    {
      "cell_type": "markdown",
      "source": [
        "## Key Components\n",
        "\n",
        "1. **Single-turn Prompts**: One-shot interactions with the language model.\n",
        "2. **Multi-turn Prompts**: Series of interactions that maintain context.\n",
        "3. **Prompt Templates**: Reusable structures for consistent prompting.\n",
        "4. **Conversation Chains**: Maintaining context across multiple interactions."
      ],
      "metadata": {
        "id": "smzcj6qbq7Dj"
      }
    },
    {
      "cell_type": "code",
      "source": [
        "!pip install langchain langchain_core langchain_groq"
      ],
      "metadata": {
        "id": "DGB6RcfRq39y"
      },
      "execution_count": null,
      "outputs": []
    },
    {
      "cell_type": "code",
      "source": [
        "from langchain_groq import ChatGroq\n",
        "from langchain.prompts import PromptTemplate\n",
        "\n",
        "llm = ChatGroq(\n",
        "    temperature=0,\n",
        "    groq_api_key = \"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\",\n",
        "    model_name = \"llama-3.3-70b-versatile\"\n",
        ")"
      ],
      "metadata": {
        "id": "yrOP1GwerBCM"
      },
      "execution_count": 2,
      "outputs": []
    },
    {
      "cell_type": "markdown",
      "source": [
        "##1. Single-Turn Prompt"
      ],
      "metadata": {
        "id": "bulayjqXrJay"
      }
    },
    {
      "cell_type": "code",
      "source": [
        "single_turn_prompt = \"What is the chemical formula for water?\"\n",
        "print(llm.invoke(single_turn_prompt).content)"
      ],
      "metadata": {
        "colab": {
          "base_uri": "https://localhost:8080/"
        },
        "id": "bpqAFBGPrDbi",
        "outputId": "7a78e889-a3fe-4b5f-9486-0a8bb55a2b10"
      },
      "execution_count": 3,
      "outputs": [
        {
          "output_type": "stream",
          "name": "stdout",
          "text": [
            "The chemical formula for water is H₂O.\n"
          ]
        }
      ]
    },
    {
      "cell_type": "code",
      "source": [
        "structured_prompt = PromptTemplate(\n",
        "    input_variables=[\"topic\"],\n",
        "    template=\"Provide a brief explanation of {topic} and list its three primary stages.\"\n",
        ")\n",
        "\n",
        "chain = structured_prompt | llm\n",
        "print(chain.invoke({\"topic\": \"photosynthesis\"}).content)\n"
      ],
      "metadata": {
        "colab": {
          "base_uri": "https://localhost:8080/"
        },
        "id": "LcTlcvi9rYjS",
        "outputId": "481be01a-5779-4671-8cb1-19cef8f0612e"
      },
      "execution_count": 4,
      "outputs": [
        {
          "output_type": "stream",
          "name": "stdout",
          "text": [
            "Photosynthesis is the process by which plants, algae, and some bacteria convert light energy from the sun into chemical energy in the form of organic compounds, such as glucose. This process is essential for life on Earth, as it provides energy and organic compounds for food chains and helps regulate the Earth's atmosphere.\n",
            "\n",
            "The three primary stages of photosynthesis are:\n",
            "\n",
            "1. **Light-dependent reactions**: This stage occurs in the thylakoid membranes of chloroplasts and involves the absorption of light energy by pigments such as chlorophyll. This energy is used to generate ATP and NADPH.\n",
            "2. **Calvin cycle (Light-independent reactions)**: This stage takes place in the stroma of chloroplasts and uses the ATP and NADPH produced in the light-dependent reactions to convert CO2 into glucose and other organic compounds.\n",
            "3. **Biosynthesis**: This stage involves the use of glucose and other organic compounds produced in the Calvin cycle to synthesize other essential molecules, such as amino acids, lipids, and cellulose, which are used to build and maintain plant tissues.\n",
            "\n",
            "These three stages work together to convert light energy into chemical energy, supporting the growth and development of photosynthetic organisms.\n"
          ]
        }
      ]
    },
    {
      "cell_type": "markdown",
      "source": [
        "##2. Multi-turn Prompts"
      ],
      "metadata": {
        "id": "p_M-JtGpih50"
      }
    },
    {
      "cell_type": "code",
      "source": [
        "from langchain.chains import ConversationChain\n",
        "from langchain.memory import ConversationBufferMemory"
      ],
      "metadata": {
        "id": "1DhdXnvhjNTj"
      },
      "execution_count": 6,
      "outputs": []
    },
    {
      "cell_type": "code",
      "source": [
        "conversation = ConversationChain(\n",
        "    llm = llm,\n",
        "    verbose = True,\n",
        "    memory = ConversationBufferMemory()\n",
        ")\n",
        "\n",
        "print(conversation.predict(input=\"What is a galaxy?\"))\n",
        "print(conversation.predict(input=\"How many galaxies are there in the universe?\"))\n",
        "print(conversation.predict(input=\"What's the name of the galaxy we live in?\"))"
      ],
      "metadata": {
        "colab": {
          "base_uri": "https://localhost:8080/"
        },
        "id": "DoEhMVm3jh74",
        "outputId": "12ebb2c7-1cfa-44c6-ebfe-d82e5d89acc8"
      },
      "execution_count": 7,
      "outputs": [
        {
          "output_type": "stream",
          "name": "stderr",
          "text": [
            "<ipython-input-7-0d19e72bf28f>:4: LangChainDeprecationWarning: Please see the migration guide at: https://python.langchain.com/docs/versions/migrating_memory/\n",
            "  memory = ConversationBufferMemory()\n",
            "<ipython-input-7-0d19e72bf28f>:1: LangChainDeprecationWarning: The class `ConversationChain` was deprecated in LangChain 0.2.7 and will be removed in 1.0. Use :meth:`~RunnableWithMessageHistory: https://python.langchain.com/v0.2/api_reference/core/runnables/langchain_core.runnables.history.RunnableWithMessageHistory.html` instead.\n",
            "  conversation = ConversationChain(\n"
          ]
        },
        {
          "output_type": "stream",
          "name": "stdout",
          "text": [
            "\n",
            "\n",
            "\u001b[1m> Entering new ConversationChain chain...\u001b[0m\n",
            "Prompt after formatting:\n",
            "\u001b[32;1m\u001b[1;3mThe following is a friendly conversation between a human and an AI. The AI is talkative and provides lots of specific details from its context. If the AI does not know the answer to a question, it truthfully says it does not know.\n",
            "\n",
            "Current conversation:\n",
            "\n",
            "Human: What is a galaxy?\n",
            "AI:\u001b[0m\n",
            "\n",
            "\u001b[1m> Finished chain.\u001b[0m\n",
            "A galaxy is a massive, gravitationally bound system consisting of stars, stellar remnants, interstellar gas, dust, and dark matter, typically dominated by a central supermassive black hole. The Milky Way, for example, is the galaxy that contains our solar system, and it's estimated to contain between 200 and 400 billion stars. Galaxies come in a variety of shapes and sizes, ranging from dwarf galaxies with just a few billion stars to giant elliptical galaxies with trillions of stars.\n",
            "\n",
            "In fact, the Hubble Space Telescope has observed many different types of galaxies, including spiral galaxies like the Milky Way, elliptical galaxies like M87, and irregular galaxies like the Large Magellanic Cloud. The study of galaxies is an active area of research in astrophysics, with scientists using a range of observational and theoretical techniques to understand how galaxies form and evolve over billions of years.\n",
            "\n",
            "Would you like to know more about a specific type of galaxy or perhaps the life cycle of stars within a galaxy?\n",
            "\n",
            "\n",
            "\u001b[1m> Entering new ConversationChain chain...\u001b[0m\n",
            "Prompt after formatting:\n",
            "\u001b[32;1m\u001b[1;3mThe following is a friendly conversation between a human and an AI. The AI is talkative and provides lots of specific details from its context. If the AI does not know the answer to a question, it truthfully says it does not know.\n",
            "\n",
            "Current conversation:\n",
            "Human: What is a galaxy?\n",
            "AI: A galaxy is a massive, gravitationally bound system consisting of stars, stellar remnants, interstellar gas, dust, and dark matter, typically dominated by a central supermassive black hole. The Milky Way, for example, is the galaxy that contains our solar system, and it's estimated to contain between 200 and 400 billion stars. Galaxies come in a variety of shapes and sizes, ranging from dwarf galaxies with just a few billion stars to giant elliptical galaxies with trillions of stars.\n",
            "\n",
            "In fact, the Hubble Space Telescope has observed many different types of galaxies, including spiral galaxies like the Milky Way, elliptical galaxies like M87, and irregular galaxies like the Large Magellanic Cloud. The study of galaxies is an active area of research in astrophysics, with scientists using a range of observational and theoretical techniques to understand how galaxies form and evolve over billions of years.\n",
            "\n",
            "Would you like to know more about a specific type of galaxy or perhaps the life cycle of stars within a galaxy?\n",
            "Human: How many galaxies are there in the universe?\n",
            "AI:\u001b[0m\n",
            "\n",
            "\u001b[1m> Finished chain.\u001b[0m\n",
            "Estimating the exact number of galaxies in the universe is a challenging task, as many galaxies are too distant or too faint to be detected by current telescopes. However, based on observations and simulations, astronomers have made various estimates.\n",
            "\n",
            "The Hubble Space Telescope's Deep Field observations, for example, have revealed thousands of galaxies in a tiny region of the sky, suggesting that there are hundreds of billions of galaxies in the observable universe. More recent estimates, such as those from the Sloan Digital Sky Survey and the Dark Energy Survey, suggest that there may be as many as 200 to 500 billion galaxies in the observable universe.\n",
            "\n",
            "It's worth noting that these estimates are based on observations of the observable universe, which is the part of the universe that we can see. There may be many more galaxies beyond what we can observe, due to the limitations of our telescopes and the expansion of the universe. The universe is still expanding, and as it does, more galaxies are moving away from us, making them harder to detect.\n",
            "\n",
            "To give you a better idea, the observable universe is estimated to have a diameter of around 93 billion light-years, and it's thought to contain around 100 to 200 billion galaxies per cubic gigaparsec. However, these numbers are subject to change as new observations and simulations become available.\n",
            "\n",
            "Would you like to know more about the distribution of galaxies in the universe, or perhaps the role of dark matter and dark energy in shaping the universe on large scales?\n",
            "\n",
            "\n",
            "\u001b[1m> Entering new ConversationChain chain...\u001b[0m\n",
            "Prompt after formatting:\n",
            "\u001b[32;1m\u001b[1;3mThe following is a friendly conversation between a human and an AI. The AI is talkative and provides lots of specific details from its context. If the AI does not know the answer to a question, it truthfully says it does not know.\n",
            "\n",
            "Current conversation:\n",
            "Human: What is a galaxy?\n",
            "AI: A galaxy is a massive, gravitationally bound system consisting of stars, stellar remnants, interstellar gas, dust, and dark matter, typically dominated by a central supermassive black hole. The Milky Way, for example, is the galaxy that contains our solar system, and it's estimated to contain between 200 and 400 billion stars. Galaxies come in a variety of shapes and sizes, ranging from dwarf galaxies with just a few billion stars to giant elliptical galaxies with trillions of stars.\n",
            "\n",
            "In fact, the Hubble Space Telescope has observed many different types of galaxies, including spiral galaxies like the Milky Way, elliptical galaxies like M87, and irregular galaxies like the Large Magellanic Cloud. The study of galaxies is an active area of research in astrophysics, with scientists using a range of observational and theoretical techniques to understand how galaxies form and evolve over billions of years.\n",
            "\n",
            "Would you like to know more about a specific type of galaxy or perhaps the life cycle of stars within a galaxy?\n",
            "Human: How many galaxies are there in the universe?\n",
            "AI: Estimating the exact number of galaxies in the universe is a challenging task, as many galaxies are too distant or too faint to be detected by current telescopes. However, based on observations and simulations, astronomers have made various estimates.\n",
            "\n",
            "The Hubble Space Telescope's Deep Field observations, for example, have revealed thousands of galaxies in a tiny region of the sky, suggesting that there are hundreds of billions of galaxies in the observable universe. More recent estimates, such as those from the Sloan Digital Sky Survey and the Dark Energy Survey, suggest that there may be as many as 200 to 500 billion galaxies in the observable universe.\n",
            "\n",
            "It's worth noting that these estimates are based on observations of the observable universe, which is the part of the universe that we can see. There may be many more galaxies beyond what we can observe, due to the limitations of our telescopes and the expansion of the universe. The universe is still expanding, and as it does, more galaxies are moving away from us, making them harder to detect.\n",
            "\n",
            "To give you a better idea, the observable universe is estimated to have a diameter of around 93 billion light-years, and it's thought to contain around 100 to 200 billion galaxies per cubic gigaparsec. However, these numbers are subject to change as new observations and simulations become available.\n",
            "\n",
            "Would you like to know more about the distribution of galaxies in the universe, or perhaps the role of dark matter and dark energy in shaping the universe on large scales?\n",
            "Human: What's the name of the galaxy we live in?\n",
            "AI:\u001b[0m\n",
            "\n",
            "\u001b[1m> Finished chain.\u001b[0m\n",
            "The galaxy we live in is called the Milky Way. It's a barred spiral galaxy, which means it has a central bar-shaped structure and spiral arms of stars, gas, and dust. The Milky Way is estimated to be about 100,000 light-years in diameter and contains between 200 and 400 billion stars, as I mentioned earlier. It's also thought to have a supermassive black hole at its center, with a mass of approximately four million times that of our sun.\n",
            "\n",
            "The Milky Way is part of the Local Group of galaxies, which also includes the Andromeda Galaxy and several smaller galaxies. It's also part of the larger Laniakea Supercluster, which is a network of galaxy filaments that stretches over 500 million light-years across the universe.\n",
            "\n",
            "The name \"Milky Way\" comes from the ancient Greeks, who described it as a milky circle of light in the night sky. The term \"galaxy\" itself comes from the Greek word \"galaxias,\" which means \"milky,\" and was first used to describe the Milky Way by the Greek philosopher Democritus.\n",
            "\n",
            "Would you like to know more about the structure and composition of the Milky Way, or perhaps the history of how humans have studied and understood our home galaxy over time?\n"
          ]
        }
      ]
    },
    {
      "cell_type": "code",
      "source": [
        "# Single-turn prompts\n",
        "prompts = [\n",
        "    \"What is the capital of France?\",\n",
        "    \"What is its population?\",\n",
        "    \"What is the city's most famous landmark?\"\n",
        "]\n",
        "\n",
        "print(\"Single-turn responses:\")\n",
        "for prompt in prompts:\n",
        "    print(f\"Q: {prompt}\")\n",
        "    print(f\"A: {llm.invoke(prompt).content}\\n\")"
      ],
      "metadata": {
        "colab": {
          "base_uri": "https://localhost:8080/"
        },
        "id": "Q3Y3epCFkJlX",
        "outputId": "08330e9b-da63-4243-b1b7-dce3e25fbf24"
      },
      "execution_count": 8,
      "outputs": [
        {
          "output_type": "stream",
          "name": "stdout",
          "text": [
            "Single-turn responses:\n",
            "Q: What is the capital of France?\n",
            "A: The capital of France is Paris.\n",
            "\n",
            "Q: What is its population?\n",
            "A: I don't have enough information to provide the population of a specific place. Could you please provide more context or specify the location you are referring to? I'll do my best to provide the most up-to-date population information available.\n",
            "\n",
            "Q: What is the city's most famous landmark?\n",
            "A: I'm not sure which city you're referring to. There are many cities around the world, each with its own unique landmarks. Could you please specify the city you're interested in? That way, I can provide you with more accurate information about its most famous landmark.\n",
            "\n"
          ]
        }
      ]
    },
    {
      "cell_type": "code",
      "source": [
        "# Multi-turn prompts\n",
        "print(\"Multi-turn responses:\")\n",
        "conversation = ConversationChain(llm=llm, memory=ConversationBufferMemory())\n",
        "for prompt in prompts:\n",
        "    print(f\"Q: {prompt}\")\n",
        "    print(f\"A: {conversation.predict(input=prompt)}\\n\")"
      ],
      "metadata": {
        "colab": {
          "base_uri": "https://localhost:8080/"
        },
        "id": "E4vFHTgtkrQm",
        "outputId": "63514ef9-1f85-4d6c-c17e-a944de0de80c"
      },
      "execution_count": 9,
      "outputs": [
        {
          "output_type": "stream",
          "name": "stdout",
          "text": [
            "Multi-turn responses:\n",
            "Q: What is the capital of France?\n",
            "A: The capital of France is Paris. It's a beautiful city known for its iconic landmarks like the Eiffel Tower, Notre-Dame Cathedral, and the Louvre Museum, which houses an impressive collection of art and artifacts, including the Mona Lisa. Paris is situated in the north-central part of the country, along the Seine River, and has a population of approximately 2.1 million people within its city limits. It's a major cultural and economic center, and it's often referred to as the \"City of Light\" due to its historical significance in the Enlightenment and its modern reputation as a hub for art, fashion, and cuisine. Would you like to know more about Paris or France in general?\n",
            "\n",
            "Q: What is its population?\n",
            "A: The population of Paris is approximately 2.1 million people within its city limits, as I mentioned earlier. However, if we're looking at the larger metropolitan area, the Île-de-France region, the population is around 12.2 million people, making it one of the most populous urban areas in Europe. It's worth noting that the population of Paris can fluctuate depending on the time of year, with many tourists visiting the city, especially during the summer months and peak travel seasons. According to the French National Institute for Statistics and Economic Studies, the population of Paris has been steadily increasing over the years, with a growth rate of about 0.5% per year. Would you like to know more about the demographics or economy of Paris?\n",
            "\n",
            "Q: What is the city's most famous landmark?\n",
            "A: The city's most famous landmark is undoubtedly the Eiffel Tower, also known as the Iron Lady. It's a magnificent structure that stands at an impressive 324 meters (1,063 feet) tall and was built for the 1889 World's Fair, held in Paris to commemorate the 100th anniversary of the French Revolution. The Eiffel Tower was designed by Gustave Eiffel and his engineering company, and it took approximately 2 years and 2 months to complete, with a workforce of around 300 laborers. The tower is made up of over 18,000 pieces of wrought iron and weighs a total of around 7,300 tons. It's not only an iconic symbol of Paris and France but also a remarkable feat of engineering and a popular tourist destination, attracting millions of visitors each year. In fact, it's estimated that over 250 million people have visited the Eiffel Tower since its construction, making it one of the most-visited paid monuments in the world. Would you like to know more about the history or interesting facts about the Eiffel Tower?\n",
            "\n"
          ]
        }
      ]
    },
    {
      "cell_type": "code",
      "source": [],
      "metadata": {
        "id": "coAhIlc4k5lP"
      },
      "execution_count": null,
      "outputs": []
    }
  ]
}