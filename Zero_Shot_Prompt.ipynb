{
  "nbformat": 4,
  "nbformat_minor": 0,
  "metadata": {
    "colab": {
      "provenance": []
    },
    "kernelspec": {
      "name": "python3",
      "display_name": "Python 3"
    },
    "language_info": {
      "name": "python"
    }
  },
  "cells": [
    {
      "cell_type": "markdown",
      "source": [
        "# Zero-Shot Prompting Tutorial\n",
        "\n",
        "This tutorial provides a comprehensive introduction to zero-shot prompting, a powerful technique in prompt engineering that allows language models to perform tasks without specific examples or prior training."
      ],
      "metadata": {
        "id": "cFx5LpZB06i5"
      }
    },
    {
      "cell_type": "markdown",
      "source": [
        "## Method Details\n",
        "\n",
        "The tutorial will cover several methods for implementing zero-shot prompting:\n",
        "\n",
        "1. **Direct Task Specification**: Crafting prompts that clearly define the task without examples.\n",
        "2. **Format Specification**: Providing output format guidelines in the prompt.\n",
        "3. **Multi-step Reasoning**: Breaking down complex tasks into simpler zero-shot steps.\n",
        "4. **Comparative Analysis**: Evaluating different zero-shot prompt structures for the same task."
      ],
      "metadata": {
        "id": "cjKDCAEx1B5_"
      }
    },
    {
      "cell_type": "code",
      "source": [
        "!pip install langchain langchain_core langchain_groq"
      ],
      "metadata": {
        "id": "qe1kuQUA1BMQ"
      },
      "execution_count": null,
      "outputs": []
    },
    {
      "cell_type": "code",
      "source": [
        "from langchain_groq import ChatGroq\n",
        "from langchain.prompts import PromptTemplate\n",
        "\n",
        "llm = ChatGroq(\n",
        "    temperature=0,\n",
        "    groq_api_key = \"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\",\n",
        "    model_name = \"llama-3.3-70b-versatile\"\n",
        ")"
      ],
      "metadata": {
        "id": "h855utRl1GGQ"
      },
      "execution_count": 2,
      "outputs": []
    },
    {
      "cell_type": "code",
      "source": [
        "def create_chain(prompt_template):\n",
        "  prompt = PromptTemplate.from_template(prompt_template)\n",
        "  return prompt | llm"
      ],
      "metadata": {
        "id": "F9gtT-3nn_lD"
      },
      "execution_count": 3,
      "outputs": []
    },
    {
      "cell_type": "markdown",
      "source": [
        "##1. Direct Task Specification"
      ],
      "metadata": {
        "id": "XyJOJ2cGnefJ"
      }
    },
    {
      "cell_type": "code",
      "source": [
        "direct_task_prompt = \"\"\"Classify the sentiment of the following text as positive , negative , or neutral\n",
        "Don't explain your reasoning, just provide the classification\n",
        "\n",
        "Text: {text}\n",
        "Sentiment: \"\"\"\n",
        "\n",
        "direct_task_chain = create_chain(direct_task_prompt)\n",
        "\n",
        "texts = [\n",
        "    \"The new cafe in town has such a cozy vibe, and the coffee is excellent!\",\n",
        "    \"The book was okay, but I wouldn't say it stood out compared to others I've read.\",\n",
        "    \"The online shopping experience was frustrating; the website kept crashing.\"\n",
        "]\n",
        "\n",
        "for text in texts:\n",
        "  result = direct_task_chain.invoke({\"text\": text}).content\n",
        "  print(f\"Text: {text}\")\n",
        "  print(f\"Sentiment: {result}\")"
      ],
      "metadata": {
        "colab": {
          "base_uri": "https://localhost:8080/"
        },
        "id": "VJ09ojoqmN36",
        "outputId": "9efe508e-09ab-411a-eb35-df2911a7ccfe"
      },
      "execution_count": 4,
      "outputs": [
        {
          "output_type": "stream",
          "name": "stdout",
          "text": [
            "Text: The new cafe in town has such a cozy vibe, and the coffee is excellent!\n",
            "Sentiment: Positive\n",
            "Text: The book was okay, but I wouldn't say it stood out compared to others I've read.\n",
            "Sentiment: Neutral\n",
            "Text: The online shopping experience was frustrating; the website kept crashing.\n",
            "Sentiment: Negative\n"
          ]
        }
      ]
    },
    {
      "cell_type": "markdown",
      "source": [
        "##2. Format Specification"
      ],
      "metadata": {
        "id": "CKr-i_BppV-B"
      }
    },
    {
      "cell_type": "code",
      "source": [
        "format_spec_prompt = \"\"\"Generate a short news article about {topic}.\n",
        "Structure your response in the following format:\n",
        "\n",
        "Headline: [A catchy headline for the article]\n",
        "\n",
        "Lead: [A brief introductory paragraph summarizing the key points]\n",
        "\n",
        "Body: [2-3 short paragraphs providing more details]\n",
        "\n",
        "Conclusion: [A concluding sentence or call to action]\"\"\"\n",
        "\n",
        "format_spec_chain = create_chain(format_spec_prompt)\n",
        "\n",
        "topic = \"Breakthrough in renewable energy storage technology\"\n",
        "result = format_spec_chain.invoke({\"topic\": topic}).content\n",
        "print(result)\n"
      ],
      "metadata": {
        "colab": {
          "base_uri": "https://localhost:8080/"
        },
        "id": "R5fYA_UopLII",
        "outputId": "1aa01d11-6b75-443d-bc4a-4e9dcba184b8"
      },
      "execution_count": 5,
      "outputs": [
        {
          "output_type": "stream",
          "name": "stdout",
          "text": [
            "Headline: Revolutionizing the Grid: Breakthrough in Renewable Energy Storage Technology Unveiled\n",
            "\n",
            "Lead: In a significant leap forward for the renewable energy sector, a team of scientists has announced a groundbreaking innovation in energy storage technology, enabling the efficient and cost-effective storage of solar and wind power for extended periods. This development is poised to transform the way we harness and utilize renewable energy, paving the way for a more sustainable future.\n",
            "\n",
            "Body: The novel technology, dubbed \"EcoCycle,\" utilizes advanced nanomaterials and artificial intelligence to optimize energy storage and release. According to the research team, EcoCycle can store up to 50% more energy than existing solutions, while reducing costs by approximately 30%. This breakthrough has far-reaching implications for the widespread adoption of renewable energy sources, as it addresses the long-standing challenge of intermittency and energy storage. Furthermore, the EcoCycle system is designed to be highly scalable, making it an attractive solution for both residential and industrial applications.\n",
            "\n",
            "The researchers behind EcoCycle have already begun collaborating with leading energy companies to integrate their technology into existing infrastructure. Pilot projects are slated to launch in several countries, with the goal of demonstrating the viability and efficiency of the new energy storage system. As the world continues to transition towards a low-carbon economy, innovations like EcoCycle are crucial for overcoming the technical and economic hurdles associated with renewable energy.\n",
            "\n",
            "The potential impact of EcoCycle extends beyond the energy sector, with potential applications in transportation, agriculture, and other industries. As the technology continues to evolve, it is likely to play a key role in shaping a more sustainable and resilient future for generations to come.\n",
            "\n",
            "Conclusion: As the world waits with bated breath for the widespread adoption of EcoCycle, one thing is clear: the future of renewable energy has never looked brighter, and it's time for governments, industries, and individuals to invest in a sustainable tomorrow.\n"
          ]
        }
      ]
    },
    {
      "cell_type": "markdown",
      "source": [
        "##3. Multi-step Reasoning"
      ],
      "metadata": {
        "id": "1a6MAYJop3FU"
      }
    },
    {
      "cell_type": "code",
      "source": [
        "multi_step_prompt = \"\"\"Analyze the following text for its main argument, supporting evidence, and potential counterarguments.\n",
        "Provide your analysis in the following steps:\n",
        "\n",
        "1. Main Argument: Identify and state the primary claim or thesis.\n",
        "2. Supporting Evidence: List the key points or evidence used to support the main argument.\n",
        "3. Potential Counterarguments: Suggest possible objections or alternative viewpoints to the main argument.\n",
        "\n",
        "Text: {text}\n",
        "\n",
        "Analysis:\"\"\"\n",
        "\n",
        "multi_step_chain = create_chain(multi_step_prompt)\n",
        "\n",
        "text = \"\"\"Remote work has become increasingly popular in recent years, offering numerous advantages to both employees and employers.\n",
        "Workers enjoy greater flexibility, reduced commuting time, and the ability to create a more personalized work environment.\n",
        "Employers benefit from lower office costs and access to a broader talent pool.\n",
        "However, challenges such as maintaining team collaboration, managing productivity, and ensuring data security still persist, making the transition to remote work not without its drawbacks.\"\"\"\n",
        "\n",
        "result = multi_step_chain.invoke({\"text\": text}).content\n",
        "print(result)\n"
      ],
      "metadata": {
        "colab": {
          "base_uri": "https://localhost:8080/"
        },
        "id": "Se0upKprps7M",
        "outputId": "b3fc3d43-5547-4bb6-d169-0a76e6211924"
      },
      "execution_count": 6,
      "outputs": [
        {
          "output_type": "stream",
          "name": "stdout",
          "text": [
            "Here's the analysis of the given text:\n",
            "\n",
            "1. **Main Argument**: The primary claim or thesis is that remote work has become increasingly popular and offers numerous advantages to both employees and employers, despite some challenges that still need to be addressed.\n",
            "\n",
            "2. **Supporting Evidence**: The key points or evidence used to support the main argument include:\n",
            "   - Greater flexibility for workers\n",
            "   - Reduced commuting time for workers\n",
            "   - Ability for workers to create a more personalized work environment\n",
            "   - Lower office costs for employers\n",
            "   - Access to a broader talent pool for employers\n",
            "\n",
            "3. **Potential Counterarguments**: Some possible objections or alternative viewpoints to the main argument could be:\n",
            "   - The potential for social isolation and decreased face-to-face interaction among remote workers, which could negatively impact mental health and team cohesion.\n",
            "   - The difficulty in establishing and maintaining trust between employers and remote employees, particularly in terms of productivity and work ethic.\n",
            "   - The potential for remote work to blur the lines between work and personal life, leading to burnout or the expectation of being constantly available.\n",
            "   - The possibility that not all jobs or industries are suitable for remote work, and that some tasks may require in-person collaboration or interaction.\n",
            "   - The concern that remote work may exacerbate existing inequalities, such as those related to access to technology or digital literacy, and may not be equally beneficial to all employees.\n"
          ]
        }
      ]
    },
    {
      "cell_type": "markdown",
      "source": [
        "##4. Comparative Analysis"
      ],
      "metadata": {
        "id": "E4eTcCCDqecz"
      }
    },
    {
      "cell_type": "code",
      "source": [
        "task = \"Describe the benefits and challenges of artificial intelligence in healthcare\"\n",
        "\n",
        "def compare_prompts(task, prompt_templates):\n",
        "    print(f\"Task: {task}\\n\")\n",
        "    for name, template in prompt_templates.items():\n",
        "        chain = create_chain(template)\n",
        "        result = chain.invoke({\"task\": task}).content\n",
        "        print(f\"{name} Prompt Result:\")\n",
        "        print(result)\n",
        "        print(\"\\n\" + \"-\"*50 + \"\\n\")\n",
        "\n",
        "prompt_templates = {\n",
        "    \"Basic\": \"Describe {task}.\",\n",
        "    \"Structured\": \"\"\"Describe {task} by addressing the following points:\n",
        "1. Benefits of AI in healthcare\n",
        "2. Challenges associated with AI in healthcare\n",
        "3. Examples of current AI applications in healthcare\n",
        "4. Future prospects and trends in the field\"\"\"\n",
        "}\n",
        "\n",
        "compare_prompts(task, prompt_templates)\n"
      ],
      "metadata": {
        "colab": {
          "base_uri": "https://localhost:8080/"
        },
        "id": "O1dSm36VqEFJ",
        "outputId": "c11625bb-183f-4c60-f00c-4500fc59d14a"
      },
      "execution_count": 7,
      "outputs": [
        {
          "output_type": "stream",
          "name": "stdout",
          "text": [
            "Task: Describe the benefits and challenges of artificial intelligence in healthcare\n",
            "\n",
            "Basic Prompt Result:\n",
            "The integration of artificial intelligence (AI) in healthcare has the potential to revolutionize the industry, offering numerous benefits and posing significant challenges. Here are some of the key advantages and disadvantages of AI in healthcare:\n",
            "\n",
            "**Benefits:**\n",
            "\n",
            "1. **Improved Diagnosis**: AI-powered algorithms can analyze large amounts of medical data, including images, lab results, and patient histories, to help doctors diagnose diseases more accurately and quickly.\n",
            "2. **Personalized Medicine**: AI can help tailor treatment plans to individual patients based on their unique characteristics, medical histories, and genetic profiles.\n",
            "3. **Enhanced Patient Engagement**: AI-powered chatbots and virtual assistants can help patients manage their health, schedule appointments, and access medical information.\n",
            "4. **Streamlined Clinical Workflows**: AI can automate routine administrative tasks, such as data entry and billing, freeing up healthcare professionals to focus on more complex and high-value tasks.\n",
            "5. **Predictive Analytics**: AI can analyze large datasets to identify patterns and predict patient outcomes, allowing healthcare providers to intervene early and prevent complications.\n",
            "6. **Remote Monitoring**: AI-powered sensors and wearables can monitor patients remotely, enabling healthcare providers to track patient health and respond to changes in real-time.\n",
            "7. **Reduced Costs**: AI can help reduce healthcare costs by minimizing unnecessary tests, procedures, and hospitalizations.\n",
            "\n",
            "**Challenges:**\n",
            "\n",
            "1. **Data Quality and Integration**: AI algorithms require high-quality, standardized data to produce accurate results. Integrating data from different sources and formats can be a significant challenge.\n",
            "2. **Regulatory Frameworks**: The development and deployment of AI in healthcare must comply with regulatory frameworks, such as HIPAA, which can be complex and time-consuming.\n",
            "3. **Cybersecurity**: AI systems can be vulnerable to cyber attacks, which can compromise patient data and disrupt healthcare services.\n",
            "4. **Bias and Fairness**: AI algorithms can perpetuate existing biases and disparities in healthcare, leading to unfair treatment of certain patient groups.\n",
            "5. **Clinical Validation**: AI-powered diagnostic tools and treatment plans must be clinically validated to ensure their safety and effectiveness.\n",
            "6. **Workforce Disruption**: The adoption of AI in healthcare may displace certain jobs, such as administrative and clerical roles, while creating new ones, such as AI developer and data scientist positions.\n",
            "7. **Patient Trust and Acceptance**: Patients may be hesitant to adopt AI-powered healthcare services, citing concerns about privacy, security, and the role of machines in their care.\n",
            "8. **Explainability and Transparency**: AI decision-making processes can be complex and difficult to understand, making it challenging to explain AI-driven recommendations to patients and healthcare providers.\n",
            "9. **Scalability and Interoperability**: AI systems must be able to scale to meet the needs of large healthcare organizations and integrate with existing systems and infrastructure.\n",
            "10. **Continuous Learning and Updating**: AI systems must be continuously updated and refined to reflect changes in medical knowledge, patient populations, and healthcare practices.\n",
            "\n",
            "In conclusion, the benefits of AI in healthcare are significant, but the challenges must be addressed through careful planning, investment, and collaboration among healthcare providers, technology developers, and regulatory agencies. By doing so, we can harness the potential of AI to improve patient outcomes, enhance the quality of care, and reduce healthcare costs.\n",
            "\n",
            "--------------------------------------------------\n",
            "\n",
            "Structured Prompt Result:\n",
            "The integration of artificial intelligence (AI) in healthcare has revolutionized the medical industry, offering numerous benefits, but also presenting several challenges. Here's a comprehensive overview of the benefits, challenges, current applications, and future prospects of AI in healthcare:\n",
            "\n",
            "**1. Benefits of AI in Healthcare:**\n",
            "\n",
            "The benefits of AI in healthcare are multifaceted and can be summarized as follows:\n",
            "* **Improved diagnosis accuracy**: AI algorithms can analyze large amounts of medical data, including images, lab results, and patient histories, to provide more accurate diagnoses.\n",
            "* **Enhanced patient care**: AI-powered chatbots and virtual assistants can help patients with routine inquiries, medication reminders, and personalized health advice.\n",
            "* **Streamlined clinical workflows**: AI can automate administrative tasks, such as data entry, billing, and insurance claims, freeing up healthcare professionals to focus on patient care.\n",
            "* **Personalized medicine**: AI can help tailor treatment plans to individual patients based on their unique genetic profiles, medical histories, and lifestyle factors.\n",
            "* **Predictive analytics**: AI can analyze large datasets to identify high-risk patients, predict disease progression, and prevent hospital readmissions.\n",
            "\n",
            "**2. Challenges Associated with AI in Healthcare:**\n",
            "\n",
            "Despite the benefits, there are several challenges associated with AI in healthcare:\n",
            "* **Data quality and availability**: AI algorithms require high-quality, diverse, and large amounts of data to learn and improve. However, healthcare data is often fragmented, incomplete, or biased.\n",
            "* **Regulatory frameworks**: The development and deployment of AI in healthcare must comply with stringent regulations, such as HIPAA, to ensure patient data privacy and security.\n",
            "* **Clinical validation**: AI algorithms must be thoroughly tested and validated in clinical settings to ensure their safety and efficacy.\n",
            "* **Cybersecurity risks**: AI systems can be vulnerable to cyber attacks, which can compromise patient data and disrupt healthcare services.\n",
            "* **Workforce displacement**: The automation of certain tasks may displace some healthcare workers, requiring significant retraining and upskilling efforts.\n",
            "\n",
            "**3. Examples of Current AI Applications in Healthcare:**\n",
            "\n",
            "AI is already being applied in various areas of healthcare, including:\n",
            "* **Computer vision**: AI-powered algorithms can analyze medical images, such as X-rays, CT scans, and MRIs, to detect abnormalities and diagnose diseases.\n",
            "* **Natural language processing**: AI-powered chatbots and virtual assistants can help patients with routine inquiries, medication reminders, and personalized health advice.\n",
            "* **Predictive analytics**: AI can analyze large datasets to identify high-risk patients, predict disease progression, and prevent hospital readmissions.\n",
            "* **Robot-assisted surgery**: AI-powered robots can assist surgeons during procedures, enhancing precision and reducing recovery time.\n",
            "* **Personalized medicine**: AI can help tailor treatment plans to individual patients based on their unique genetic profiles, medical histories, and lifestyle factors.\n",
            "\n",
            "**4. Future Prospects and Trends in the Field:**\n",
            "\n",
            "The future of AI in healthcare holds much promise, with several trends and prospects on the horizon:\n",
            "* **Increased adoption of AI-powered diagnostic tools**: AI will become more prevalent in diagnostic imaging, laboratory testing, and clinical decision support systems.\n",
            "* **Growing focus on patient-centered care**: AI will be used to develop more personalized and patient-centered care plans, taking into account individual preferences, values, and lifestyles.\n",
            "* **Expansion of AI in mental health**: AI-powered chatbots and virtual assistants will become more common in mental health support, providing accessible and stigma-free care.\n",
            "* **Integration of AI with the Internet of Medical Things (IoMT)**: AI will be used to analyze data from connected medical devices, such as wearables and implantables, to improve patient outcomes and prevent hospital readmissions.\n",
            "* **Development of explainable AI (XAI) models**: XAI models will become more prevalent, providing transparency and interpretability into AI decision-making processes, which is essential for building trust and ensuring regulatory compliance.\n",
            "\n",
            "In conclusion, AI has the potential to transform healthcare by improving diagnosis accuracy, enhancing patient care, and streamlining clinical workflows. However, addressing the challenges associated with AI in healthcare, such as data quality, regulatory frameworks, and clinical validation, is crucial for ensuring the safe and effective deployment of AI in healthcare. As the field continues to evolve, we can expect to see increased adoption of AI-powered diagnostic tools, a growing focus on patient-centered care, and the integration of AI with the IoMT.\n",
            "\n",
            "--------------------------------------------------\n",
            "\n"
          ]
        }
      ]
    },
    {
      "cell_type": "code",
      "source": [],
      "metadata": {
        "id": "hkaG9ynSqmVV"
      },
      "execution_count": null,
      "outputs": []
    }
  ]
}