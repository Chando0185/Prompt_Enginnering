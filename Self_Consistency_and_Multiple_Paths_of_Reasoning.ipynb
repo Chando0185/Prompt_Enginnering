{
  "nbformat": 4,
  "nbformat_minor": 0,
  "metadata": {
    "colab": {
      "provenance": []
    },
    "kernelspec": {
      "name": "python3",
      "display_name": "Python 3"
    },
    "language_info": {
      "name": "python"
    }
  },
  "cells": [
    {
      "cell_type": "markdown",
      "source": [
        "# Self-Consistency and Multiple Paths of Reasoning Tutorial\n",
        "\n",
        "This tutorial explores the concept of self-consistency and multiple paths of reasoning in prompt engineering. We'll focus on techniques for generating diverse reasoning paths and aggregating results to improve the quality and reliability of AI-generated answers."
      ],
      "metadata": {
        "id": "GoUHQVNy9EBZ"
      }
    },
    {
      "cell_type": "markdown",
      "source": [
        "## Key Components\n",
        "\n",
        "1. Generating multiple reasoning paths\n",
        "2. Aggregating results for better answers\n",
        "3. Implementing self-consistency checks\n",
        "4. Applying these techniques to various problem-solving scenarios"
      ],
      "metadata": {
        "id": "1fhMREq78-rR"
      }
    },
    {
      "cell_type": "code",
      "source": [
        "!pip install langchain langchain_core langchain_groq"
      ],
      "metadata": {
        "id": "EztpKU4e8_Bf"
      },
      "execution_count": null,
      "outputs": []
    },
    {
      "cell_type": "code",
      "source": [
        "from langchain_groq import ChatGroq\n",
        "from langchain.prompts import PromptTemplate\n",
        "\n",
        "llm = ChatGroq(\n",
        "    temperature=0,\n",
        "    groq_api_key = \"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\",\n",
        "    model_name = \"llama-3.3-70b-versatile\"\n",
        ")"
      ],
      "metadata": {
        "id": "ZyFLWTZtBLT6"
      },
      "execution_count": 2,
      "outputs": []
    },
    {
      "cell_type": "markdown",
      "source": [
        "##1. Generating multiple reasoning paths"
      ],
      "metadata": {
        "id": "ezAN8wk5yx5J"
      }
    },
    {
      "cell_type": "code",
      "source": [
        "def generate_multiple_paths(problem, num_paths=3):\n",
        "  prompt_template = PromptTemplate(\n",
        "      input_variables=[\"problem\" , \"path_number\"],\n",
        "      template=\"\"\"Solve the following problem using a unique approach. This is reasoing path {path_number}.\n",
        "      Problem: {problem}\n",
        "      Reasoning Path {path_number}:\"\"\"\n",
        "  )\n",
        "  paths = []\n",
        "  for i in range(num_paths):\n",
        "    chain = prompt_template | llm\n",
        "    response = chain.invoke({\"problem\": problem, \"path_number\": i+1}).content\n",
        "    paths.append(response)\n",
        "  return paths"
      ],
      "metadata": {
        "id": "VNGs0AiUFBJ2"
      },
      "execution_count": 13,
      "outputs": []
    },
    {
      "cell_type": "code",
      "source": [
        "problem = \"If a train travels at 60 km/h, how long will it take to cover 180 km?\"\n",
        "paths = generate_multiple_paths(problem)\n",
        "\n",
        "for i, path in enumerate(paths, 1):\n",
        "  print(f\"Path {i}: \\n{path}\\n\")"
      ],
      "metadata": {
        "colab": {
          "base_uri": "https://localhost:8080/"
        },
        "id": "_frk9oWPz7Ro",
        "outputId": "c60cc11f-5692-4b0e-8731-54136bc3e1dd"
      },
      "execution_count": 33,
      "outputs": [
        {
          "output_type": "stream",
          "name": "stdout",
          "text": [
            "Path 1: \n",
            "To solve this problem using a unique approach, let's consider the concept of unit rates. A unit rate is a ratio that has a denominator of 1. In this case, we want to find the time it takes for the train to cover 180 km, so we'll use the unit rate of distance per hour.\n",
            "\n",
            "Given: \n",
            "- Speed of the train = 60 km/h\n",
            "- Distance to be covered = 180 km\n",
            "\n",
            "We can start by finding the unit rate of time per kilometer. To do this, we'll divide 1 hour by the speed of the train (60 km/h).\n",
            "\n",
            "Time per kilometer = 1 hour / 60 km\n",
            "Time per kilometer = 1/60 hour/km\n",
            "\n",
            "Now, we can multiply this unit rate by the total distance to be covered (180 km) to find the total time.\n",
            "\n",
            "Total time = Time per kilometer * Distance\n",
            "Total time = (1/60 hour/km) * 180 km\n",
            "Total time = 180/60 hours\n",
            "Total time = 3 hours\n",
            "\n",
            "Therefore, it will take the train 3 hours to cover 180 km. This approach emphasizes the concept of unit rates and how they can be used to solve problems involving ratios and proportions.\n",
            "\n",
            "Path 2: \n",
            "To solve this problem using a unique approach, let's consider the concept of unit rates. A unit rate is a ratio that has a denominator of 1. In this case, we want to find the time it takes to cover a certain distance, so we can use the unit rate of distance per hour.\n",
            "\n",
            "Given: \n",
            "- Speed of the train = 60 km/h\n",
            "- Distance to be covered = 180 km\n",
            "\n",
            "We can start by finding the unit rate of time per kilometer. To do this, we can take the reciprocal of the speed, which gives us the time it takes to cover 1 kilometer.\n",
            "\n",
            "Time per kilometer = 1 / Speed\n",
            "= 1 / 60 km/h\n",
            "= 1 hour / 60 km\n",
            "= 1/60 hour per kilometer\n",
            "\n",
            "Now, to find the time it takes to cover 180 km, we can multiply the time per kilometer by the total distance.\n",
            "\n",
            "Time = Time per kilometer * Distance\n",
            "= (1/60 hour per kilometer) * 180 km\n",
            "= (1/60) * 180\n",
            "= 3 hours\n",
            "\n",
            "Therefore, it will take the train 3 hours to cover 180 km.\n",
            "\n",
            "This approach is unique because it involves finding the unit rate of time per kilometer and then using that to calculate the total time. It's a bit like finding the cost per item and then multiplying it by the number of items to find the total cost.\n",
            "\n",
            "Path 3: \n",
            "To solve this problem using a unique approach, let's consider the concept of unit rates. A unit rate is a ratio that has a denominator of 1. In this case, we want to find the time it takes to cover a certain distance.\n",
            "\n",
            "We know the train travels at 60 km/h, which means it covers 60 kilometers in 1 hour. To find the time it takes to cover 180 km, we can use the following thought process:\n",
            "\n",
            "If the train covers 60 km in 1 hour, it will cover 120 km in 2 hours (since 60 km x 2 = 120 km). However, we still have 60 km left to cover (since 180 km - 120 km = 60 km).\n",
            "\n",
            "Since we know the train covers 60 km in 1 hour, we can add 1 more hour to the initial 2 hours to cover the remaining 60 km. Therefore, the total time it takes to cover 180 km is 3 hours.\n",
            "\n",
            "This approach uses the concept of unit rates and proportional reasoning to solve the problem in a unique and intuitive way.\n",
            "\n"
          ]
        }
      ]
    },
    {
      "cell_type": "markdown",
      "source": [
        "##2. Aggregating results for better answers"
      ],
      "metadata": {
        "id": "Kmui0RL90tU8"
      }
    },
    {
      "cell_type": "code",
      "source": [
        "def aggregate_results(paths):\n",
        "    prompt_template = PromptTemplate(\n",
        "        input_variables=[\"paths\"],\n",
        "        template=\"\"\"Analyze the following reasoning paths and determine the most consistent answer. If there are discrepancies, explain why and provide the most likely correct answer.\n",
        "        Reasoning paths:\n",
        "        {paths}\n",
        "\n",
        "        Most consistent answer:\"\"\"\n",
        "    )\n",
        "\n",
        "    chain = prompt_template | llm\n",
        "    response = chain.invoke({\"paths\": \"\\n\".join(paths)}).content\n",
        "    return response"
      ],
      "metadata": {
        "id": "cQ5OQWeo0cqt"
      },
      "execution_count": 26,
      "outputs": []
    },
    {
      "cell_type": "code",
      "source": [
        "aggregated_results = aggregate_results(paths)\n",
        "print(\"Aggregate Result : \\n\", aggregated_results)"
      ],
      "metadata": {
        "colab": {
          "base_uri": "https://localhost:8080/"
        },
        "id": "qhOgeNj00-Ec",
        "outputId": "443066b3-20d2-4a01-c30f-cedb576af2af"
      },
      "execution_count": 27,
      "outputs": [
        {
          "output_type": "stream",
          "name": "stdout",
          "text": [
            "Aggregate Result : \n",
            " The most consistent answer is: **3 hours**\n",
            "\n",
            "All three reasoning paths lead to the same conclusion: it will take the train 3 hours to cover a distance of 180 km. The approaches may differ in their methodology, but the final answer is consistent across all three paths.\n",
            "\n",
            "The first two paths use the concept of unit rates to find the time per kilometer and then multiply it by the total distance to be covered. The third path uses a proportion and a visual approach to solve for the time it takes to cover 180 km. Despite the differences in approach, all three paths arrive at the same answer, which suggests that the answer is correct and consistent.\n"
          ]
        }
      ]
    },
    {
      "cell_type": "markdown",
      "source": [
        "##3. Implementing self-consistency checks"
      ],
      "metadata": {
        "id": "hQJIG7pr1fjZ"
      }
    },
    {
      "cell_type": "code",
      "source": [
        "def self_consistency_check(problem, aggregated_result):\n",
        "    prompt_template = PromptTemplate(\n",
        "        input_variables=[\"problem\", \"result\"],\n",
        "        template=\"\"\"Evaluate the consistency and reliability of the following result for the given problem.\n",
        "        Problem: {problem}\n",
        "        Result: {result}\n",
        "\n",
        "        Evaluation (consider factors like logical consistency, adherence to known facts, and potential biases):\"\"\"\n",
        "    )\n",
        "\n",
        "    chain = prompt_template | llm\n",
        "    response = chain.invoke({\"problem\": problem, \"result\": aggregated_result}).content\n",
        "    return response"
      ],
      "metadata": {
        "id": "XBYjT7Xj1L-D"
      },
      "execution_count": 28,
      "outputs": []
    },
    {
      "cell_type": "code",
      "source": [
        "consistency_evaluation = self_consistency_check(problem, aggregate_results)\n",
        "print(\"Self-Consistency Evaluation: \\n\", consistency_evaluation)"
      ],
      "metadata": {
        "colab": {
          "base_uri": "https://localhost:8080/"
        },
        "id": "LSDf84D612_z",
        "outputId": "0ab71396-8e06-4a48-e0df-611d625508e4"
      },
      "execution_count": 29,
      "outputs": [
        {
          "output_type": "stream",
          "name": "stdout",
          "text": [
            "Self-Consistency Evaluation: \n",
            " To evaluate the consistency and reliability of the given result for the problem, let's first calculate the expected answer using basic principles of physics, specifically the formula for time, which is distance divided by speed.\n",
            "\n",
            "Given:\n",
            "- Speed of the train = 60 km/h\n",
            "- Distance to cover = 180 km\n",
            "\n",
            "The formula to find time is: Time = Distance / Speed\n",
            "\n",
            "Substituting the given values: Time = 180 km / 60 km/h = 3 hours\n",
            "\n",
            "Now, let's evaluate the provided result, which is `<function aggregate_results at 0x7a2c22cf53f0>`, against the calculated answer and consider factors like logical consistency, adherence to known facts, and potential biases:\n",
            "\n",
            "1. **Logical Consistency**: The provided result does not offer a numerical value or a logical expression that directly relates to the problem of calculating time based on distance and speed. Therefore, it lacks logical consistency with the problem at hand.\n",
            "\n",
            "2. **Adherence to Known Facts**: The calculation of time when the speed and distance are known is a straightforward application of the formula Time = Distance / Speed. The result provided does not adhere to this known fact or method of calculation.\n",
            "\n",
            "3. **Potential Biases**: The result appears to be a memory address or a reference to a function in a programming context, which suggests that there might be a technical or programming-related issue rather than a mathematical or logical bias in the calculation itself. However, without further context on how this result was generated, it's challenging to assess potential biases in the calculation process.\n",
            "\n",
            "In conclusion, the provided result does not demonstrate consistency or reliability in solving the given problem. A reliable and consistent result would be a numerical value (in this case, 3 hours) derived from applying the formula Time = Distance / Speed, which is a well-established method for calculating time when distance and speed are known. The result `<function aggregate_results at 0x7a2c22cf53f0>` does not align with this expectation and appears to be unrelated to the mathematical solution of the problem.\n"
          ]
        }
      ]
    },
    {
      "cell_type": "markdown",
      "source": [
        "##4. Applying these techniques to various problem-solving scenarios"
      ],
      "metadata": {
        "id": "RM_6khgw2srB"
      }
    },
    {
      "cell_type": "code",
      "source": [
        "def solve_problem(problem):\n",
        "    paths = generate_multiple_paths(problem)\n",
        "    aggregated_result = aggregate_results(paths)\n",
        "    consistency_evaluation = self_consistency_check(problem, aggregated_result)\n",
        "    return aggregated_result, consistency_evaluation\n",
        "\n",
        "# Example problems\n",
        "problems = [\n",
        "    \"What is the capital of France?\",\n",
        "    \"Explain the concept of supply and demand in economics.\",\n",
        "    \"If a train travels at 70 km/h, how long will it take to cover 180 km?\"\n",
        "]\n",
        "\n",
        "for problem in problems:\n",
        "    print(f\"Problem: {problem}\")\n",
        "    result, evaluation = solve_problem(problem)\n",
        "    print(\"Aggregated Result:\\n\", result)\n",
        "    print(\"\\nConsistency Evaluation:\\n\", evaluation)\n",
        "    print(\"\\n\" + \"-\"*50 + \"\\n\")"
      ],
      "metadata": {
        "colab": {
          "base_uri": "https://localhost:8080/"
        },
        "id": "3hv0DeFR4zr3",
        "outputId": "2f755005-5439-4903-8a48-5372c6b5ec63"
      },
      "execution_count": 34,
      "outputs": [
        {
          "output_type": "stream",
          "name": "stdout",
          "text": [
            "Problem: What is the capital of France?\n",
            "Aggregated Result:\n",
            " The most consistent answer among the provided reasoning paths is that the capital of France is **Paris**. All three reasoning paths, despite their unique approaches and focuses, converge on the conclusion that Paris is the capital of France. \n",
            "\n",
            "Reasoning Path 1 uses a historical and cultural perspective, focusing on Napoleon Bonaparte and the significance of Paris as the cultural, economic, and administrative center of France.\n",
            "\n",
            "Reasoning Path 2 also considers a historical and cultural perspective but expands on it by including the city's global recognition, administrative centrality, and educational prominence, further solidifying Paris's role as the capital.\n",
            "\n",
            "Reasoning Path 3 takes a more analytical and knowledge-based approach, incorporating geographical knowledge, cultural significance, historical context, common knowledge, and the elimination of other options to reach the same conclusion.\n",
            "\n",
            "There are no discrepancies among the paths regarding the conclusion about the capital of France. Each path provides a unique set of reasons and perspectives that all lead to the same answer: Paris is the capital of France. This consistency across different reasoning approaches strengthens the conclusion and provides a comprehensive understanding of why Paris holds this status.\n",
            "\n",
            "Consistency Evaluation:\n",
            " **Evaluation of Consistency and Reliability:**\n",
            "\n",
            "The result stating that the capital of France is Paris demonstrates a high level of consistency and reliability across the three reasoning paths presented. Here's a breakdown of the evaluation based on key factors:\n",
            "\n",
            "1. **Logical Consistency:** The reasoning paths exhibit logical consistency in their approaches. Each path starts with a premise (historical and cultural significance, global recognition, or analytical and knowledge-based approach) and logically deduces that Paris is the capital of France. The conclusions drawn from each path are coherent and follow from the premises, indicating strong logical consistency.\n",
            "\n",
            "2. **Adherence to Known Facts:** The reasoning paths adhere to known facts about France and its capital. The historical and cultural significance of Paris, its global recognition, administrative centrality, educational prominence, and geographical knowledge all align with established facts. This adherence to factual information strengthens the reliability of the conclusion.\n",
            "\n",
            "3. **Potential Biases:** The evaluation of potential biases in the reasoning paths suggests a minimal influence. Each path approaches the question from a different angle, which helps to mitigate the risk of bias. The historical and cultural perspectives (Paths 1 and 2) might slightly lean towards emphasizing the importance of Paris, but Path 3's analytical approach balances this out by incorporating a broader range of factors, including geographical knowledge and the elimination of other options.\n",
            "\n",
            "4. **Comprehensive Understanding:** The combination of the three reasoning paths provides a comprehensive understanding of why Paris is considered the capital of France. This multifaceted approach enhances the reliability of the conclusion by demonstrating that the answer is not dependent on a single perspective or set of facts.\n",
            "\n",
            "5. **Absence of Discrepancies:** The lack of discrepancies among the reasoning paths regarding the conclusion about the capital of France is a significant indicator of consistency and reliability. It shows that despite different approaches, the outcome is uniformly consistent, reinforcing the validity of the answer.\n",
            "\n",
            "**Conclusion:**\n",
            "\n",
            "Based on the evaluation, the result that the capital of France is Paris is highly consistent and reliable. The logical consistency, adherence to known facts, minimal potential biases, comprehensive understanding provided by the multifaceted approach, and the absence of discrepancies among the reasoning paths all contribute to the strength of the conclusion. Therefore, the answer \"Paris\" can be considered a reliable and consistent response to the question about the capital of France.\n",
            "\n",
            "--------------------------------------------------\n",
            "\n",
            "Problem: Explain the concept of supply and demand in economics.\n",
            "Aggregated Result:\n",
            " The most consistent answer is that the concept of supply and demand is a dynamic interaction between two forces that determine the prices of goods and services and the quantities that are produced and consumed. This concept can be illustrated through various analogies, such as a music festival or a water tank, which demonstrate how changes in supply and demand influence market outcomes.\n",
            "\n",
            "The reasoning paths provided all lead to the same conclusion: that supply and demand are interconnected forces that affect market equilibrium. The music festival analogy highlights how factors such as the lineup of performers, ticket prices, and festival appeal influence demand, while the supply of tickets is influenced by factors such as festival capacity and production costs. The water tank analogy, on the other hand, uses the flow of water to represent supply and demand, demonstrating how changes in these forces affect the market price and quantity.\n",
            "\n",
            "There are no significant discrepancies between the reasoning paths, as they all aim to explain the concept of supply and demand in a simplified and engaging way. The music festival analogy and the water tank analogy are both effective in illustrating the dynamic interaction between supply and demand, and how changes in these forces can lead to changes in market outcomes.\n",
            "\n",
            "In conclusion, the most consistent answer is that the concept of supply and demand is a fundamental principle of economics that can be understood through various analogies and examples. The dynamic interaction between supply and demand determines the prices of goods and services and the quantities that are produced and consumed, and is crucial for making informed decisions in economics, whether as a consumer, producer, or policymaker.\n",
            "\n",
            "Consistency Evaluation:\n",
            " **Evaluation of Consistency and Reliability**\n",
            "\n",
            "The result provided demonstrates a high level of consistency and reliability in explaining the concept of supply and demand in economics. Here's a breakdown of the evaluation:\n",
            "\n",
            "**Logical Consistency:**\n",
            "The result presents a clear and logical explanation of the concept of supply and demand, using two distinct analogies (music festival and water tank) to illustrate the dynamic interaction between these two forces. The reasoning paths are well-structured, and the conclusions drawn from each analogy are consistent with each other and with established economic principles.\n",
            "\n",
            "**Adherence to Known Facts:**\n",
            "The result accurately reflects the fundamental principles of economics, specifically the concept of supply and demand. The explanation is grounded in established economic theory, and the analogies used are effective in simplifying complex concepts without introducing inaccuracies.\n",
            "\n",
            "**Potential Biases:**\n",
            "The result appears to be free from significant biases, as it presents a balanced and neutral explanation of the concept of supply and demand. The use of analogies helps to illustrate the concept in a way that is accessible and engaging, without promoting a particular ideology or agenda.\n",
            "\n",
            "**Strengths:**\n",
            "\n",
            "1. **Clear explanation**: The result provides a clear and concise explanation of the concept of supply and demand.\n",
            "2. **Effective analogies**: The use of analogies (music festival and water tank) helps to simplify complex concepts and make them more engaging.\n",
            "3. **Consistent reasoning**: The reasoning paths are well-structured, and the conclusions drawn from each analogy are consistent with each other and with established economic principles.\n",
            "\n",
            "**Weaknesses:**\n",
            "\n",
            "1. **Lack of depth**: The result provides a general overview of the concept of supply and demand, but does not delve into more advanced topics or nuances.\n",
            "2. **Limited examples**: The result relies on only two analogies to illustrate the concept, which may not be sufficient to fully capture the complexity of supply and demand dynamics.\n",
            "\n",
            "**Conclusion:**\n",
            "Overall, the result demonstrates a high level of consistency and reliability in explaining the concept of supply and demand. The explanation is clear, logical, and grounded in established economic principles, making it a trustworthy and informative resource for understanding this fundamental concept in economics.\n",
            "\n",
            "--------------------------------------------------\n",
            "\n",
            "Problem: If a train travels at 70 km/h, how long will it take to cover 180 km?\n",
            "Aggregated Result:\n",
            " The most consistent answer among the provided reasoning paths is that it will take approximately **2 hours and 34 minutes** for the train to cover 180 km at a speed of 70 km/h.\n",
            "\n",
            "All three reasoning paths lead to the same conclusion, using different approaches:\n",
            "\n",
            "1. The first path uses the basic formula: Time = Distance / Speed.\n",
            "2. The second path uses the concept of unit rates and the reciprocal of speed.\n",
            "3. The third path uses a proportion and cross-multiplication to find the time.\n",
            "\n",
            "Despite the differences in approach, all three paths yield the same result, which suggests that the answer is consistent and reliable. Therefore, the most likely correct answer is **2 hours and 34 minutes**.\n",
            "\n",
            "Consistency Evaluation:\n",
            " To evaluate the consistency and reliability of the result, let's consider the factors of logical consistency, adherence to known facts, and potential biases.\n",
            "\n",
            "1. **Logical Consistency**: The result is derived from three different reasoning paths, all of which lead to the same conclusion. This suggests a high level of logical consistency, as the same answer is obtained regardless of the approach used. The use of different methods to arrive at the same result strengthens the argument for the answer's correctness.\n",
            "\n",
            "2. **Adherence to Known Facts**: The calculation is based on the formula Time = Distance / Speed, which is a fundamental principle in physics and is widely accepted. The given speed of the train (70 km/h) and the distance to be covered (180 km) are used in the calculations, and the result is derived using basic arithmetic operations. This adherence to established formulas and facts supports the reliability of the result.\n",
            "\n",
            "3. **Potential Biases**: There is no apparent bias in the presentation of the result. The use of multiple reasoning paths to arrive at the same conclusion helps to mitigate any potential biases, as it demonstrates that the result is not dependent on a single perspective or method. The calculation is straightforward and based on objective measurements (speed and distance), which further reduces the likelihood of bias.\n",
            "\n",
            "4. **Mathematical Accuracy**: To verify the mathematical accuracy, let's calculate the time using the basic formula: Time = Distance / Speed. Given that the distance is 180 km and the speed is 70 km/h, the calculation is as follows:\n",
            "   - Time = 180 km / 70 km/h = 2.5714 hours.\n",
            "   - To convert the decimal part of the hours into minutes, multiply by 60 (since 1 hour = 60 minutes):\n",
            "     - 0.5714 hours * 60 minutes/hour = 34.28 minutes, which is approximately 34 minutes.\n",
            "   - Therefore, the time it will take for the train to cover 180 km at a speed of 70 km/h is approximately 2 hours and 34 minutes, which matches the provided result.\n",
            "\n",
            "In conclusion, the result of **2 hours and 34 minutes** for the train to cover 180 km at a speed of 70 km/h is consistent and reliable. It is based on logical and mathematically sound reasoning, adheres to known facts and formulas, and does not appear to be influenced by potential biases. The verification of the result through a straightforward calculation further supports its accuracy.\n",
            "\n",
            "--------------------------------------------------\n",
            "\n"
          ]
        }
      ]
    },
    {
      "cell_type": "code",
      "source": [],
      "metadata": {
        "id": "OhYf1mL05nkI"
      },
      "execution_count": null,
      "outputs": []
    }
  ]
}